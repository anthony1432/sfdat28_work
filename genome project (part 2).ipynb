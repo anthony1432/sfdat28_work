{
 "cells": [
  {
   "cell_type": "code",
   "execution_count": null,
   "metadata": {
    "collapsed": true
   },
   "outputs": [],
   "source": [
    "#once I was able to clean my initial data set I found I had access to ingredient data about the beers in\n",
    "#the API so I recreated the data set with more informaiton.\n",
    "import requests\n",
    "import re\n",
    "import json\n",
    "from bs4 import BeautifulSoup\n",
    "import pandas as pd\n",
    "import numpy as np\n",
    "from pandas.io.json import json_normalize\n",
    "import seaborn as sns\n",
    "import matplotlib.pyplot as plt\n",
    "%matplotlib inline"
   ]
  },
  {
   "cell_type": "code",
   "execution_count": null,
   "metadata": {
    "collapsed": true
   },
   "outputs": [],
   "source": [
    "rows = []\n",
    "\n",
    "def parse_beer(beer):\n",
    "    breweries = beer.get('breweries', [{}])\n",
    "    brewery = breweries[0]\n",
    "    locations = brewery.get('locations', [{}])\n",
    "    location = locations[0]\n",
    "    beers = [beer.get('id'),\n",
    "             beer.get('name'),\n",
    "             beer.get('abv'),\n",
    "             beer.get('ibu'),\n",
    "             beer.get('originalGravity'),\n",
    "             beer.get('style',{}).get('ogMin'),\n",
    "             beer.get('isOrganic'),\n",
    "             beer.get('style', {}).get('categoryId'),\n",
    "             beer.get('style', {}).get('category', {}).get('name'),\n",
    "             beer.get('styleId'),\n",
    "             beer.get('style', {}).get('name'),\n",
    "             beer.get('style', {}).get('description'),\n",
    "             beer.get('servingTemperatureDisplay'),\n",
    "             beer.get('foodPairings'),\n",
    "             beer.get('description'),\n",
    "             beer.get('labels', {}).get('medium'),\n",
    "             beer.get('glasswareId'),\n",
    "             beer.get('glass', {}).get('name'),\n",
    "             beer.get('srmId'),\n",
    "             beer.get('srm', {}).get('hex'),\n",
    "             beer.get('style', {}).get('srmMin'),\n",
    "             beer.get('style', {}).get('srmMax'),            \n",
    "             brewery.get('id'),\n",
    "             brewery.get('name'),\n",
    "             brewery.get('description'),\n",
    "             brewery.get('established'),\n",
    "             location.get('locality'),\n",
    "             location.get('country', {}).get('numberCode')]\n",
    "\n",
    "    return beers\n",
    "        \n",
    "\n",
    "\n",
    "pages = range(1,1182)\n",
    "for page in pages:\n",
    "    r = requests.get('http://api.brewerydb.com/v2/beers/?key=209db383ed1d39ec3aa1c13f89161c25&p='+str(page)+'&withBreweries=Y&withIngredients=Y')\n",
    "    response = r.json()\n",
    "    rows += [parse_beer(r) for r in response['data']]\n",
    "    "
   ]
  },
  {
   "cell_type": "code",
   "execution_count": null,
   "metadata": {
    "collapsed": true
   },
   "outputs": [],
   "source": [
    "beer = pd.DataFrame(rows)"
   ]
  },
  {
   "cell_type": "code",
   "execution_count": null,
   "metadata": {
    "collapsed": true
   },
   "outputs": [],
   "source": [
    "#59,000 beers! \n",
    "beer.shape"
   ]
  },
  {
   "cell_type": "code",
   "execution_count": null,
   "metadata": {
    "collapsed": true
   },
   "outputs": [],
   "source": [
    "beer.head(3)"
   ]
  },
  {
   "cell_type": "code",
   "execution_count": null,
   "metadata": {
    "collapsed": true
   },
   "outputs": [],
   "source": [
    "#sadly there was still a lot of missing information.\n",
    "beer.isnull().sum()"
   ]
  },
  {
   "cell_type": "code",
   "execution_count": null,
   "metadata": {
    "collapsed": true
   },
   "outputs": [],
   "source": [
    "beer.columns = ['id',\n",
    "                'name',\n",
    "                'abv',\n",
    "                'ibu',\n",
    "                'originalGravity',\n",
    "                'ogMin',\n",
    "                'isOrganic',\n",
    "                'categoryId',\n",
    "                'category_name',\n",
    "                'styleId',\n",
    "                'style_name',\n",
    "                'style_description',\n",
    "                'servingTemperatureDisplay',\n",
    "                'foodPairings',\n",
    "                'description',\n",
    "                'labels',\n",
    "                'glasswareId',\n",
    "                'glass_name',\n",
    "                'srmId',\n",
    "                'srm_hex',\n",
    "                'srmMin',\n",
    "                'srmMax',\n",
    "                'brewery_id',\n",
    "                'brewery_name',\n",
    "                'brewery_description',\n",
    "                'brewery_established',\n",
    "                'brewery_locality',\n",
    "                'loc_country_code']"
   ]
  },
  {
   "cell_type": "code",
   "execution_count": null,
   "metadata": {
    "collapsed": true
   },
   "outputs": [],
   "source": [
    "beer.to_csv('beers_full.csv', encoding = 'utf-8')"
   ]
  },
  {
   "cell_type": "code",
   "execution_count": null,
   "metadata": {
    "collapsed": true
   },
   "outputs": [],
   "source": [
    "beer = pd.read_csv('beers_full.csv')"
   ]
  },
  {
   "cell_type": "code",
   "execution_count": null,
   "metadata": {
    "collapsed": true
   },
   "outputs": [],
   "source": [
    "beer.head(3)"
   ]
  },
  {
   "cell_type": "code",
   "execution_count": null,
   "metadata": {
    "collapsed": true
   },
   "outputs": [],
   "source": [
    "#now get hop, malt, and malt characteristic inforamtion from the API for the beers that have it available.\n",
    "for n in range(1,1183):\n",
    "    print n\n",
    "    r = requests.get('http://api.brewerydb.com/v2/beers/?key=209db383ed1d39ec3aa1c13f89161c25&p='+str(n)+'&withBreweries=Y&withIngredients=Y')\n",
    "    data = r.json().get('data')\n",
    "    for i in range(0,len(data)):\n",
    "        d = data[i]\n",
    "        ingredients = d.get('ingredients', {})\n",
    "        \n",
    "        if len(ingredients) > 0:\n",
    "            hops = ingredients.get('hops', [{}])\n",
    "            for n in range(0,len(hops)):\n",
    "                hop = hops[n]\n",
    "                beer.loc[beer[beer['id'] == str(d.get('id'))].index[0], 'hop'+str(n)+'_name'] = hop.get('name')\n",
    "                beer.loc[beer[beer['id'] == str(d.get('id'))].index[0], 'hop'+str(n)+'_id'] = hop.get('id')\n",
    "                beer.loc[beer[beer['id'] == str(d.get('id'))].index[0], 'hop'+str(n)+'_alphaAcidMin'] = hop.get('alphaAcidMin')\n",
    "                beer.loc[beer[beer['id'] == str(d.get('id'))].index[0], 'hop'+str(n)+'_betaAcidMax'] = hop.get('betaAcidMax')\n",
    "                beer.loc[beer[beer['id'] == str(d.get('id'))].index[0], 'hop'+str(n)+'_betaAcidMin'] = hop.get('betaAcidMin')\n",
    "                beer.loc[beer[beer['id'] == str(d.get('id'))].index[0], 'hop'+str(n)+'_caryophylleneMax'] = hop.get('caryophylleneMax')\n",
    "                beer.loc[beer[beer['id'] == str(d.get('id'))].index[0], 'hop'+str(n)+'_caryophylleneMin'] = hop.get('caryophylleneMin')\n",
    "                beer.loc[beer[beer['id'] == str(d.get('id'))].index[0], 'hop'+str(n)+'_cohumuloneMax'] = hop.get('cohumuloneMax')\n",
    "                beer.loc[beer[beer['id'] == str(d.get('id'))].index[0], 'hop'+str(n)+'_cohumuloneMin'] = hop.get('cohumuloneMin')\n",
    "                beer.loc[beer[beer['id'] == str(d.get('id'))].index[0], 'hop'+str(n)+'_description'] = hop.get('description')\n",
    "                beer.loc[beer[beer['id'] == str(d.get('id'))].index[0], 'hop'+str(n)+'_farneseneMax'] = hop.get('farneseneMax')\n",
    "                beer.loc[beer[beer['id'] == str(d.get('id'))].index[0], 'hop'+str(n)+'_humuleneMax'] = hop.get('humuleneMax')\n",
    "                beer.loc[beer[beer['id'] == str(d.get('id'))].index[0], 'hop'+str(n)+'_humuleneMin'] = hop.get('humuleneMin')\n",
    "                beer.loc[beer[beer['id'] == str(d.get('id'))].index[0], 'hop'+str(n)+'_myrceneMax'] = hop.get('myrceneMax')\n",
    "                beer.loc[beer[beer['id'] == str(d.get('id'))].index[0], 'hop'+str(n)+'_myrceneMin'] = hop.get('myrceneMin')\n",
    "            malts = ingredients.get('malt', [{}])\n",
    "            for m in range(0,len(malts)):\n",
    "                malt = malts[m]\n",
    "                beer.loc[beer[beer['id'] == str(d.get('id'))].index[0], 'malt'+str(m)+'_name'] = malt.get('name')\n",
    "                beer.loc[beer[beer['id'] == str(d.get('id'))].index[0], 'malt'+str(m)+'_id'] = malt.get('id')\n",
    "                beer.loc[beer[beer['id'] == str(d.get('id'))].index[0], 'malt'+str(m)+'_description'] = malt.get('description')\n",
    "                beer.loc[beer[beer['id'] == str(d.get('id'))].index[0], 'malt'+str(m)+'_coarseFineDifference'] = malt.get('coarseFineDifference')\n",
    "                beer.loc[beer[beer['id'] == str(d.get('id'))].index[0], 'malt'+str(m)+'_country_code'] = malt.get('country_code')\n",
    "                beer.loc[beer[beer['id'] == str(d.get('id'))].index[0], 'malt'+str(m)+'_dryYield'] = malt.get('dryYield')\n",
    "                beer.loc[beer[beer['id'] == str(d.get('id'))].index[0], 'malt'+str(m)+'_moistureContent'] = malt.get('moistureContent')\n",
    "                beer.loc[beer[beer['id'] == str(d.get('id'))].index[0], 'malt'+str(m)+'_maxInBatch'] = malt.get('maxInBatch')\n",
    "                beer.loc[beer[beer['id'] == str(d.get('id'))].index[0], 'malt'+str(m)+'_potential'] = malt.get('potential')\n",
    "                beer.loc[beer[beer['id'] == str(d.get('id'))].index[0], 'malt'+str(m)+'_protien'] = malt.get('protien')\n",
    "                beer.loc[beer[beer['id'] == str(d.get('id'))].index[0], 'malt'+str(m)+'_srmPrecise'] = malt.get('srmPrecise')\n",
    "            for m in range(0,len(malts)):\n",
    "                malt = malts[m]\n",
    "                chars = malt.get('characteristics', [{}])\n",
    "                for l in range(0,len(chars)):\n",
    "                    char = chars[l]\n",
    "                    beer.loc[beer[beer['id'] == str(d.get('id'))].index[0], 'malt'+str(m)+'_char'+str(l)+'_name'] = char.get('name')\n",
    "                    beer.loc[beer[beer['id'] == str(d.get('id'))].index[0], 'malt'+str(m)+'_char'+str(l)+'_id'] = char.get('id')\n",
    "                    beer.loc[beer[beer['id'] == str(d.get('id'))].index[0], 'malt'+str(m)+'_char'+str(l)+'_description'] = char.get('description')"
   ]
  },
  {
   "cell_type": "code",
   "execution_count": null,
   "metadata": {
    "collapsed": true
   },
   "outputs": [],
   "source": [
    "#check what we got.\n",
    "beer.head(3)\n"
   ]
  },
  {
   "cell_type": "code",
   "execution_count": null,
   "metadata": {
    "collapsed": true
   },
   "outputs": [],
   "source": [
    "beer.to_csv('beers_full2.csv', encoding = 'utf-8')"
   ]
  },
  {
   "cell_type": "code",
   "execution_count": null,
   "metadata": {
    "collapsed": true
   },
   "outputs": [],
   "source": [
    "#create a dictionary of all the hop information for easy reference.\n",
    "rows = {'hop_name': [],\n",
    "        'hop_id': [],\n",
    "        'hop_alphaAcidMin':[],\n",
    "        'hop_betaAcidMax': [],\n",
    "        'hop_betaAcidMin': [],\n",
    "        'hop_caryophylleneMax': [],\n",
    "        'hop_caryophylleneMin': [],\n",
    "        'hop_cohumuloneMax': [],\n",
    "        'hop_cohumuloneMin': [],\n",
    "        'hop_description': [],\n",
    "        'hop_farneseneMax': [],\n",
    "        'hop_humuleneMax': [],\n",
    "        'hop_humuleneMin': [],\n",
    "        'hop_myrceneMax': [],\n",
    "        'hop_myrceneMin': []}\n",
    "\n",
    "\n",
    "for index, row in beer.iterrows():\n",
    "    for n in range(0,13):\n",
    "        if row['hop'+str(n)+'_name'] > 0:\n",
    "            print row['hop'+str(n)+'_name']\n",
    "            rows['hop_name'].append(row['hop'+str(n)+'_name'])\n",
    "            rows['hop_id'].append(row['hop'+str(n)+'_id'])\n",
    "            rows['hop_alphaAcidMin'].append(row['hop'+str(n)+'_alphaAcidMin'])\n",
    "            rows['hop_betaAcidMax'].append(row['hop'+str(n)+'_betaAcidMax'])\n",
    "            rows['hop_betaAcidMin'].append(row['hop'+str(n)+'_betaAcidMin'])\n",
    "            rows['hop_caryophylleneMax'].append(row['hop'+str(n)+'_caryophylleneMax'])\n",
    "            rows['hop_caryophylleneMin'].append(row['hop'+str(n)+'_caryophylleneMin'])\n",
    "            rows['hop_cohumuloneMax'].append(row['hop'+str(n)+'_cohumuloneMax'])\n",
    "            rows['hop_cohumuloneMin'].append(row['hop'+str(n)+'_cohumuloneMin'])\n",
    "            rows['hop_description'].append(row['hop'+str(n)+'_description'])\n",
    "            rows['hop_farneseneMax'].append(row['hop'+str(n)+'_farneseneMax'])\n",
    "            rows['hop_humuleneMax'].append(row['hop'+str(n)+'_humuleneMax'])\n",
    "            rows['hop_humuleneMin'].append(row['hop'+str(n)+'_humuleneMin'])\n",
    "            rows['hop_myrceneMax'].append(row['hop'+str(n)+'_myrceneMax'])\n",
    "            rows['hop_myrceneMin'].append(row['hop'+str(n)+'_myrceneMin'])\n",
    "        \n",
    "\n"
   ]
  },
  {
   "cell_type": "code",
   "execution_count": null,
   "metadata": {
    "collapsed": true
   },
   "outputs": [],
   "source": [
    "hop_list = pd.DataFrame(rows)"
   ]
  },
  {
   "cell_type": "code",
   "execution_count": null,
   "metadata": {
    "collapsed": true
   },
   "outputs": [],
   "source": [
    "hop_list = hop_list.drop_duplicates(subset = 'hop_id')"
   ]
  },
  {
   "cell_type": "code",
   "execution_count": null,
   "metadata": {
    "collapsed": true
   },
   "outputs": [],
   "source": [
    "#now have a data set of all the hop information with no duplicates.\n",
    "hop_list.to_csv('hop_list.csv', encoding = 'utf-8')"
   ]
  },
  {
   "cell_type": "code",
   "execution_count": null,
   "metadata": {
    "collapsed": true
   },
   "outputs": [],
   "source": [
    "#do the same for malt information\n",
    "rows2 = {'malt_name': [],\n",
    "        'malt_id': [],\n",
    "        'malt_description':[],\n",
    "        'malt_coarseFineDifference': [],\n",
    "        'malt_country_code': [],\n",
    "        'malt_dryYield': [],\n",
    "        'malt_moistureContent': [],\n",
    "        'malt_maxInBatch': [],\n",
    "        'malt_potential': [],\n",
    "        'malt_protien': [],\n",
    "        'malt_srmPrecise': [],\n",
    "       }\n",
    "\n",
    "\n",
    "for index, row in beer.iterrows():\n",
    "    for n in range(0,10):\n",
    "        if row['malt'+str(n)+'_name'] > 0:\n",
    "            print row['malt'+str(n)+'_name']\n",
    "            rows2['malt_name'].append(row['malt'+str(n)+'_name'])\n",
    "            rows2['malt_id'].append(row['malt'+str(n)+'_id'])\n",
    "            rows2['malt_description'].append(row['malt'+str(n)+'_description'])\n",
    "            rows2['malt_coarseFineDifference'].append(row['malt'+str(n)+'_coarseFineDifference'])\n",
    "            rows2['malt_country_code'].append(row['malt'+str(n)+'_country_code'])\n",
    "            rows2['malt_dryYield'].append(row['malt'+str(n)+'_dryYield'])\n",
    "            rows2['malt_moistureContent'].append(row['malt'+str(n)+'_moistureContent'])\n",
    "            rows2['malt_maxInBatch'].append(row['malt'+str(n)+'_maxInBatch'])\n",
    "            rows2['malt_potential'].append(row['malt'+str(n)+'_potential'])\n",
    "            rows2['malt_protien'].append(row['malt'+str(n)+'_protien'])\n",
    "            rows2['malt_srmPrecise'].append(row['malt'+str(n)+'_srmPrecise'])\n",
    "            \n",
    "            "
   ]
  },
  {
   "cell_type": "code",
   "execution_count": null,
   "metadata": {
    "collapsed": true
   },
   "outputs": [],
   "source": [
    "malt_list = pd.DataFrame(rows2)\n"
   ]
  },
  {
   "cell_type": "code",
   "execution_count": null,
   "metadata": {
    "collapsed": true
   },
   "outputs": [],
   "source": [
    "malt_list = malt_list.drop_duplicates(subset = 'malt_id')"
   ]
  },
  {
   "cell_type": "code",
   "execution_count": null,
   "metadata": {
    "collapsed": true
   },
   "outputs": [],
   "source": [
    "malt_list.to_csv('malt_list.csv', encoding = 'utf-8')"
   ]
  },
  {
   "cell_type": "code",
   "execution_count": null,
   "metadata": {
    "collapsed": true
   },
   "outputs": [],
   "source": [
    "#and the same with malt characteristics.\n",
    "rows3 = {'malt_name': [],\n",
    "         'malt_id': [],\n",
    "         'malt_char_name': [],\n",
    "         'malt_char_id': [],\n",
    "         'malt_char_description': []\n",
    "        }\n",
    "    \n",
    "\n",
    "for index, row in beer.iterrows():\n",
    "    for n in range(0,10):\n",
    "        if row['malt'+str(n)+'_char0_name'] > 0:\n",
    "            rows3['malt_name'].append(row['malt'+str(n)+'_name'])\n",
    "            rows3['malt_id'].append(row['malt'+str(n)+'_id'])\n",
    "            rows3['malt_char_name'].append(row['malt'+str(n)+'_char0_name'])\n",
    "            rows3['malt_char_id'].append(row['malt'+str(n)+'_char0_id'])\n",
    "            rows3['malt_char_description'].append(row['malt'+str(n)+'_char0_description'])\n",
    "        elif row['malt'+str(n)+'_char1_name'] > 0:\n",
    "            rows3['malt_name'].append(row['malt'+str(n)+'_name'])\n",
    "            rows3['malt_id'].append(row['malt'+str(n)+'_id'])\n",
    "            rows3['malt_char_name'].append(row['malt'+str(n)+'_char1_name'])\n",
    "            rows3['malt_char_id'].append(row['malt'+str(n)+'_char1_id'])\n",
    "            rows3['malt_char_description'].append(row['malt'+str(n)+'_char1_description'])\n",
    "        elif row['malt'+str(n)+'_char2_name'] > 0:\n",
    "            rows3['malt_name'].append(row['malt'+str(n)+'_name'])\n",
    "            rows3['malt_id'].append(row['malt'+str(n)+'_id'])\n",
    "            rows3['malt_char_name'].append(row['malt'+str(n)+'_char2_name'])\n",
    "            rows3['malt_char_id'].append(row['malt'+str(n)+'_char2_id'])\n",
    "            rows3['malt_char_description'].append(row['malt'+str(n)+'_char2_description'])\n",
    "        elif row['malt'+str(n)+'_char3_name'] > 0:\n",
    "            rows3['malt_name'].append(row['malt'+str(n)+'_name'])\n",
    "            rows3['malt_id'].append(row['malt'+str(n)+'_id'])\n",
    "            rows3['malt_char_name'].append(row['malt'+str(n)+'_char3_name'])\n",
    "            rows3['malt_char_id'].append(row['malt'+str(n)+'_char3_id'])\n",
    "            rows3['malt_char_description'].append(row['malt'+str(n)+'_char3_description'])\n",
    "    for m in range(0,7):\n",
    "        if row['malt'+str(m)+'_char4_name'] > 0:\n",
    "            rows3['malt_name'].append(row['malt'+str(m)+'_name'])\n",
    "            rows3['malt_id'].append(row['malt'+str(m)+'_id'])\n",
    "            rows3['malt_char_name'].append(row['malt'+str(m)+'_char4_name'])\n",
    "            rows3['malt_char_id'].append(row['malt'+str(m)+'_char4_id'])\n",
    "            rows3['malt_char_description'].append(row['malt'+str(m)+'_char4_description'])\n"
   ]
  },
  {
   "cell_type": "code",
   "execution_count": null,
   "metadata": {
    "collapsed": true
   },
   "outputs": [],
   "source": [
    "char_list = pd.DataFrame(rows3)"
   ]
  },
  {
   "cell_type": "code",
   "execution_count": null,
   "metadata": {
    "collapsed": true
   },
   "outputs": [],
   "source": [
    "char_list = char_list.drop_duplicates(subset = 'malt_id')"
   ]
  },
  {
   "cell_type": "code",
   "execution_count": null,
   "metadata": {
    "collapsed": true
   },
   "outputs": [],
   "source": [
    "char_list.to_csv('char_list.csv', encoding = 'utf-8')"
   ]
  }
 ],
 "metadata": {
  "anaconda-cloud": {},
  "kernelspec": {
   "display_name": "Python [conda env:playtime]",
   "language": "python",
   "name": "conda-env-playtime-py"
  },
  "language_info": {
   "codemirror_mode": {
    "name": "ipython",
    "version": 2
   },
   "file_extension": ".py",
   "mimetype": "text/x-python",
   "name": "python",
   "nbconvert_exporter": "python",
   "pygments_lexer": "ipython2",
   "version": "2.7.12"
  }
 },
 "nbformat": 4,
 "nbformat_minor": 1
}

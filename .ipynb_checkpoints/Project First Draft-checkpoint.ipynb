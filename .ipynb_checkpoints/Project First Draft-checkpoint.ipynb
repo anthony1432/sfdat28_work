{
 "cells": [
  {
   "cell_type": "code",
   "execution_count": 1,
   "metadata": {
    "collapsed": true
   },
   "outputs": [],
   "source": [
    "#please note that this notebook is an amalgamation of a few different notebooks that I have used so far.\n",
    "#the process of getting and cleaning my data has been a challenge and so the other notebooks are somewhat messy and this \n",
    "#is an attempt to summarize it up to a certain point.\n",
    "\n",
    "import requests\n",
    "import re\n",
    "import json\n",
    "from bs4 import BeautifulSoup\n",
    "import pandas as pd\n",
    "import numpy as np\n",
    "from pandas.io.json import json_normalize\n",
    "import seaborn as sns\n",
    "import matplotlib.pyplot as plt\n",
    "%matplotlib inline"
   ]
  },
  {
   "cell_type": "code",
   "execution_count": null,
   "metadata": {
    "collapsed": true
   },
   "outputs": [],
   "source": [
    "#define a function to parse information from a json file retireved from BreweryDB api and saved it to a CSV as it went\n",
    "#in order to make sure data was preserved\n",
    "rows = []\n",
    "\n",
    "def parse_beer(beer):\n",
    "    return [beer.get('id'),\n",
    "            beer.get('name'), \n",
    "            beer.get('abv'), \n",
    "            beer.get('ibu', 0),\n",
    "            beer.get('originalGravity'),\n",
    "            beer.get('style',{}).get('ogMin'),\n",
    "            beer.get('isOrganic'),\n",
    "            beer.get('style', {}).get('categoryId'),\n",
    "            beer.get('style', {}).get('category', {}).get('name'),\n",
    "            beer.get('styleId'),\n",
    "            beer.get('style', {}).get('name'),\n",
    "            beer.get('style', {}).get('description'),\n",
    "            beer.get('servingTemperatureDisplay'),\n",
    "            beer.get('foodPairings'),\n",
    "            beer.get('description'),\n",
    "            beer.get('labels', {}).get('medium'),\n",
    "            beer.get('glasswareId'),\n",
    "            beer.get('glass', {}).get('name'),\n",
    "            beer.get('srmId'),\n",
    "            beer.get('srm', {}).get('hex'),\n",
    "            beer.get('style', {}).get('srmMin'),\n",
    "            beer.get('style', {}).get('srmMax')\n",
    "           ]\n",
    "\n",
    "\n",
    "ibus = range(80,150)\n",
    "for ibu in ibus:\n",
    "    if ibu % 2 == 0:\n",
    "        print ibu\n",
    "        pd.DataFrame(rows).to_csv('saved_beers.csv', encoding='utf-8')\n",
    "    r = requests.get('http://api.brewerydb.com/v2/beers/?key=API_KEY&p=1&ibu='+str(ibu))\n",
    "    response = r.json()\n",
    "    rows += [parse_beer(r) for r in response['data']]\n",
    "    if response['numberOfPages'] > 1:\n",
    "        page = range(2,response['numberOfPages']+1)\n",
    "        for p in page:\n",
    "            response = requests.get('http://api.brewerydb.com/v2/beers/?key=API_KEY&p='+str(p)+'&ibu='+str(ibu)).json()\n",
    "            rows += [parse_beer(r) for r in response['data']]"
   ]
  },
  {
   "cell_type": "code",
   "execution_count": null,
   "metadata": {
    "collapsed": true
   },
   "outputs": [],
   "source": [
    "#save data as it is made.  this is just one example of the save that needed to be done twice due to daily limits\n",
    "beers = pd.DataFrame(rows)\n",
    "beers.to_csv('beers.csv', encoding = 'utf-8')"
   ]
  },
  {
   "cell_type": "code",
   "execution_count": null,
   "metadata": {
    "collapsed": true
   },
   "outputs": [],
   "source": [
    "#call one of the files created above\n",
    "beer_list = pd.read_csv('beers_redux2.csv')"
   ]
  },
  {
   "cell_type": "code",
   "execution_count": null,
   "metadata": {
    "collapsed": true
   },
   "outputs": [],
   "source": [
    "#columns needed to be named in order to properly merge the 2 csv files that were created\n",
    "beer_list.columns = ['unknown',\n",
    "                     'id',\n",
    "                     'name',\n",
    "                     'abv',\n",
    "                     'ibu',\n",
    "                     'originalGravity',\n",
    "                     'ogMin',\n",
    "                     'isOrganic',\n",
    "                     'categoryId',\n",
    "                     'category_name',\n",
    "                     'styleId',\n",
    "                     'style_name',\n",
    "                     'style_description',\n",
    "                     'servingTemperature',\n",
    "                     'foodPairings',\n",
    "                     'beer_description',\n",
    "                     'labels',\n",
    "                     'glasswareId',\n",
    "                     'glass_name',\n",
    "                     'srmId',\n",
    "                     'srm_hex',\n",
    "                     'srmMin',\n",
    "                     'srmMax'\n",
    "                     ]\n",
    "beer_list.head()"
   ]
  },
  {
   "cell_type": "code",
   "execution_count": null,
   "metadata": {
    "collapsed": true
   },
   "outputs": [],
   "source": [
    "#Concat the two dataframes created from the 2 main csv file that were a product of parsing the json file.\n",
    "beers = pd.concat([beer_list2,beer_list], axis = 0)"
   ]
  },
  {
   "cell_type": "code",
   "execution_count": null,
   "metadata": {
    "collapsed": true
   },
   "outputs": [],
   "source": [
    "#pull up the csv that holds all the data from my API pull\n",
    "beers= pd.read_csv('beers.csv')"
   ]
  },
  {
   "cell_type": "code",
   "execution_count": null,
   "metadata": {
    "collapsed": true
   },
   "outputs": [],
   "source": [
    "#check to see what values are missing from the API information\n",
    "beers.isnull().sum()"
   ]
  },
  {
   "cell_type": "code",
   "execution_count": null,
   "metadata": {
    "collapsed": true
   },
   "outputs": [],
   "source": [
    "#remove feature columns that have too many missing values to be useful\n",
    "beer = beers.drop(['Unnamed: 0','unknown','servingTemperature','foodPairings','labels','glasswareId','glass_name','srm_hex'], axis=1)"
   ]
  },
  {
   "cell_type": "code",
   "execution_count": null,
   "metadata": {
    "collapsed": true
   },
   "outputs": [],
   "source": [
    "#The process of filling in NaN values begins with filling in missing srmId(color code) values by using the average of the defined\n",
    "#min and max srm for a  given style of beer(if i have that information)\n",
    "for index, row in beer.iterrows():\n",
    "#     print row['srmId']>0\n",
    "    if not row['srmId'] > 0:\n",
    "#         print  (row['srmMin']+row['srmMax'])/2\n",
    "        beer.loc[index, 'srmId'] = (row['srmMin']+row['srmMax'])/2\n",
    "    if not row['originalGravity'] > 0:\n",
    "        beer.loc[index, 'originalGravity'] = row['ogMin']\n",
    "    \n",
    "beer.isnull().sum()"
   ]
  },
  {
   "cell_type": "code",
   "execution_count": null,
   "metadata": {
    "collapsed": true
   },
   "outputs": [],
   "source": [
    "#this is the first in a series of 3 functions defined to help fill in missing beer_description values.  It takes a beer name from\n",
    "#my dataframe and searches beeradvocate.com. If there is a result it will parse the HTML to return the link to the profile page\n",
    "#of the first beer from the search results. note: this is not fool proof as it is highly possible that the first search result\n",
    "#was not the exact beer I was looking for.\n",
    "reg_tag = re.compile(\"/beer/profile/\\d+/\\d+/\")\n",
    "a_tag = b.findAll('a' , attrs={'href': reg_tag})\n",
    "def get_url_from_beer_name(name):\n",
    "    urls = []\n",
    "    r= requests.get('https://www.beeradvocate.com/search/?q='+name.lower()+'&qt=beer')\n",
    "    b = BeautifulSoup(r.text, 'html.parser')\n",
    "    a_tag = b.findAll('a' , attrs={'href': reg_tag})\n",
    "    for link in a_tag:\n",
    "        urls.append(link.get('href'))\n",
    "    if urls:\n",
    "        return urls[0]\n",
    "    return None"
   ]
  },
  {
   "cell_type": "code",
   "execution_count": null,
   "metadata": {
    "collapsed": true
   },
   "outputs": [],
   "source": [
    "# This is the second fucntion used to get a beer description.  It takes the url that was found in the previous function and\n",
    "#parses it to find the description on the profile page for that beer.\n",
    "def get_desc_from_advocate(url):\n",
    "    r= requests.get('https://www.beeradvocate.com'+url)\n",
    "    b = BeautifulSoup(r.text, 'html.parser')\n",
    "    brs = b.findAll('br')\n",
    "    for index, be in enumerate(brs):\n",
    "        if 'notes' in be.text.lower():\n",
    "            return brs[index+1].text.split('Notes / Commercial Description:')[1].strip()"
   ]
  },
  {
   "cell_type": "code",
   "execution_count": null,
   "metadata": {
    "collapsed": true
   },
   "outputs": [],
   "source": [
    "#test the first function\n",
    "get_url_from_beer_name('stella artois')"
   ]
  },
  {
   "cell_type": "code",
   "execution_count": null,
   "metadata": {
    "collapsed": true
   },
   "outputs": [],
   "source": [
    "#test the second function\n",
    "get_desc_from_advocate('169/449')"
   ]
  },
  {
   "cell_type": "code",
   "execution_count": null,
   "metadata": {
    "collapsed": true
   },
   "outputs": [],
   "source": [
    "#this function combines the previous 2 functions into 1\n",
    "def get_desc_from_beer_name(name):\n",
    "    url = get_url_from_beer_name(name)\n",
    "    if url:\n",
    "        return get_desc_from_advocate(url)\n",
    "    else:\n",
    "        return None"
   ]
  },
  {
   "cell_type": "code",
   "execution_count": null,
   "metadata": {
    "collapsed": true
   },
   "outputs": [],
   "source": [
    "#test it\n",
    "get_desc_from_beer_name(\"ace of simcoe\")"
   ]
  },
  {
   "cell_type": "code",
   "execution_count": null,
   "metadata": {
    "collapsed": true
   },
   "outputs": [],
   "source": [
    "#create a for loop to fill in the beer_description for any NaN values in the DataFrame\n",
    "done = 0\n",
    "for index, row in beer.iterrows():\n",
    "    if not row['beer_description'] > 0 and row['name']:\n",
    "        beer.loc[index, 'beer_description'] = get_desc_from_beer_name(row['name'])\n",
    "        done += 1\n",
    "        if done % 20 == 0:\n",
    "            print done"
   ]
  },
  {
   "cell_type": "code",
   "execution_count": null,
   "metadata": {
    "collapsed": true
   },
   "outputs": [],
   "source": [
    "#check to see how many are still NaN\n",
    "beer.isnull().sum()"
   ]
  },
  {
   "cell_type": "code",
   "execution_count": null,
   "metadata": {
    "collapsed": true
   },
   "outputs": [],
   "source": [
    "#save Progress\n",
    "beer.to_csv('beers2.csv', encoding = 'utf-8')"
   ]
  },
  {
   "cell_type": "code",
   "execution_count": 2,
   "metadata": {
    "collapsed": true
   },
   "outputs": [],
   "source": [
    "#reinstantiate DataFrame. note: everything from here down was worked on solely in this notebook unlike the summary above.\n",
    "beer = pd.read_csv('beers2.csv')"
   ]
  },
  {
   "cell_type": "code",
   "execution_count": 3,
   "metadata": {
    "collapsed": false
   },
   "outputs": [
    {
     "data": {
      "text/html": [
       "<div>\n",
       "<table border=\"1\" class=\"dataframe\">\n",
       "  <thead>\n",
       "    <tr style=\"text-align: right;\">\n",
       "      <th></th>\n",
       "      <th>Unnamed: 0</th>\n",
       "      <th>id</th>\n",
       "      <th>name</th>\n",
       "      <th>abv</th>\n",
       "      <th>ibu</th>\n",
       "      <th>originalGravity</th>\n",
       "      <th>ogMin</th>\n",
       "      <th>isOrganic</th>\n",
       "      <th>categoryId</th>\n",
       "      <th>category_name</th>\n",
       "      <th>styleId</th>\n",
       "      <th>style_name</th>\n",
       "      <th>style_description</th>\n",
       "      <th>beer_description</th>\n",
       "      <th>srmId</th>\n",
       "      <th>srmMin</th>\n",
       "      <th>srmMax</th>\n",
       "    </tr>\n",
       "  </thead>\n",
       "  <tbody>\n",
       "    <tr>\n",
       "      <th>0</th>\n",
       "      <td>0</td>\n",
       "      <td>njehqH</td>\n",
       "      <td>144 IPA</td>\n",
       "      <td>NaN</td>\n",
       "      <td>0</td>\n",
       "      <td>1.060</td>\n",
       "      <td>1.060</td>\n",
       "      <td>N</td>\n",
       "      <td>3.0</td>\n",
       "      <td>North American Origin Ales</td>\n",
       "      <td>30.0</td>\n",
       "      <td>American-Style India Pale Ale</td>\n",
       "      <td>American-style India pale ales are perceived t...</td>\n",
       "      <td>Duplicate listingAdded by ThatsThatDude on 05-...</td>\n",
       "      <td>10.0</td>\n",
       "      <td>6.0</td>\n",
       "      <td>14.0</td>\n",
       "    </tr>\n",
       "    <tr>\n",
       "      <th>1</th>\n",
       "      <td>1</td>\n",
       "      <td>EVVV1r</td>\n",
       "      <td>1488 Whisky Beer</td>\n",
       "      <td>7.0</td>\n",
       "      <td>0</td>\n",
       "      <td>NaN</td>\n",
       "      <td>NaN</td>\n",
       "      <td>N</td>\n",
       "      <td>11.0</td>\n",
       "      <td>Hybrid/mixed Beer</td>\n",
       "      <td>138.0</td>\n",
       "      <td>Other Strong Ale or Lager</td>\n",
       "      <td>Any style of beer can be made stronger than th...</td>\n",
       "      <td>No notes at this time.Added by geexploitation ...</td>\n",
       "      <td>NaN</td>\n",
       "      <td>NaN</td>\n",
       "      <td>NaN</td>\n",
       "    </tr>\n",
       "    <tr>\n",
       "      <th>2</th>\n",
       "      <td>2</td>\n",
       "      <td>295GZo</td>\n",
       "      <td>19 Original Colonies</td>\n",
       "      <td>5.5</td>\n",
       "      <td>0</td>\n",
       "      <td>1.008</td>\n",
       "      <td>NaN</td>\n",
       "      <td>Y</td>\n",
       "      <td>12.0</td>\n",
       "      <td>Mead, Cider, &amp; Perry</td>\n",
       "      <td>148.0</td>\n",
       "      <td>Open Category Mead</td>\n",
       "      <td>This mead should exhibit the character of all ...</td>\n",
       "      <td>19 Original Colonies Mead is brewed using 5 in...</td>\n",
       "      <td>NaN</td>\n",
       "      <td>NaN</td>\n",
       "      <td>NaN</td>\n",
       "    </tr>\n",
       "    <tr>\n",
       "      <th>3</th>\n",
       "      <td>3</td>\n",
       "      <td>Np1soi</td>\n",
       "      <td>666 Premium British Beer</td>\n",
       "      <td>6.6</td>\n",
       "      <td>0</td>\n",
       "      <td>1.033</td>\n",
       "      <td>1.033</td>\n",
       "      <td>N</td>\n",
       "      <td>1.0</td>\n",
       "      <td>British Origin Ales</td>\n",
       "      <td>3.0</td>\n",
       "      <td>Ordinary Bitter</td>\n",
       "      <td>Ordinary bitter is gold to copper colored with...</td>\n",
       "      <td>NaN</td>\n",
       "      <td>8.5</td>\n",
       "      <td>5.0</td>\n",
       "      <td>12.0</td>\n",
       "    </tr>\n",
       "    <tr>\n",
       "      <th>4</th>\n",
       "      <td>4</td>\n",
       "      <td>7xU7NH</td>\n",
       "      <td>Ace of Simcoe</td>\n",
       "      <td>4.5</td>\n",
       "      <td>0</td>\n",
       "      <td>NaN</td>\n",
       "      <td>NaN</td>\n",
       "      <td>N</td>\n",
       "      <td>3.0</td>\n",
       "      <td>North American Origin Ales</td>\n",
       "      <td>164.0</td>\n",
       "      <td>Session India Pale Ale</td>\n",
       "      <td>Session India Pale Ales are gold to copper. Ch...</td>\n",
       "      <td>Single hop awesomeness, shining a spotlight on...</td>\n",
       "      <td>NaN</td>\n",
       "      <td>NaN</td>\n",
       "      <td>NaN</td>\n",
       "    </tr>\n",
       "    <tr>\n",
       "      <th>5</th>\n",
       "      <td>5</td>\n",
       "      <td>KgqNri</td>\n",
       "      <td>After Party Pale Ale</td>\n",
       "      <td>5.3</td>\n",
       "      <td>0</td>\n",
       "      <td>1.060</td>\n",
       "      <td>1.060</td>\n",
       "      <td>N</td>\n",
       "      <td>3.0</td>\n",
       "      <td>North American Origin Ales</td>\n",
       "      <td>30.0</td>\n",
       "      <td>American-Style India Pale Ale</td>\n",
       "      <td>American-style India pale ales are perceived t...</td>\n",
       "      <td>Duplicate of https://www.beeradvocate.com/beer...</td>\n",
       "      <td>10.0</td>\n",
       "      <td>6.0</td>\n",
       "      <td>14.0</td>\n",
       "    </tr>\n",
       "    <tr>\n",
       "      <th>6</th>\n",
       "      <td>6</td>\n",
       "      <td>TwnIXA</td>\n",
       "      <td>Amber Rye</td>\n",
       "      <td>5.5</td>\n",
       "      <td>0</td>\n",
       "      <td>1.044</td>\n",
       "      <td>1.044</td>\n",
       "      <td>N</td>\n",
       "      <td>8.0</td>\n",
       "      <td>North American Lager</td>\n",
       "      <td>97.0</td>\n",
       "      <td>American-Style Premium Lager</td>\n",
       "      <td>This style has low malt (and adjunct) sweetnes...</td>\n",
       "      <td>No notes at this time.Added by  on 09-16-2009</td>\n",
       "      <td>4.0</td>\n",
       "      <td>2.0</td>\n",
       "      <td>6.0</td>\n",
       "    </tr>\n",
       "    <tr>\n",
       "      <th>7</th>\n",
       "      <td>7</td>\n",
       "      <td>O6CToa</td>\n",
       "      <td>American Barley Wine</td>\n",
       "      <td>11.5</td>\n",
       "      <td>0</td>\n",
       "      <td>1.090</td>\n",
       "      <td>1.090</td>\n",
       "      <td>N</td>\n",
       "      <td>3.0</td>\n",
       "      <td>North American Origin Ales</td>\n",
       "      <td>34.0</td>\n",
       "      <td>American-Style Barley Wine Ale</td>\n",
       "      <td>American style barley wines range from amber t...</td>\n",
       "      <td>No notes at this time.Added by mattvandyk on 0...</td>\n",
       "      <td>16.5</td>\n",
       "      <td>11.0</td>\n",
       "      <td>22.0</td>\n",
       "    </tr>\n",
       "    <tr>\n",
       "      <th>8</th>\n",
       "      <td>8</td>\n",
       "      <td>3D7Ba5</td>\n",
       "      <td>American IPA</td>\n",
       "      <td>5.0</td>\n",
       "      <td>0</td>\n",
       "      <td>1.060</td>\n",
       "      <td>1.060</td>\n",
       "      <td>N</td>\n",
       "      <td>3.0</td>\n",
       "      <td>North American Origin Ales</td>\n",
       "      <td>30.0</td>\n",
       "      <td>American-Style India Pale Ale</td>\n",
       "      <td>American-style India pale ales are perceived t...</td>\n",
       "      <td>Our American IPA gets its bold hop flavor from...</td>\n",
       "      <td>10.0</td>\n",
       "      <td>6.0</td>\n",
       "      <td>14.0</td>\n",
       "    </tr>\n",
       "    <tr>\n",
       "      <th>9</th>\n",
       "      <td>9</td>\n",
       "      <td>MDmjnK</td>\n",
       "      <td>Artesian Light Ale</td>\n",
       "      <td>3.8</td>\n",
       "      <td>0</td>\n",
       "      <td>1.045</td>\n",
       "      <td>1.045</td>\n",
       "      <td>N</td>\n",
       "      <td>3.0</td>\n",
       "      <td>North American Origin Ales</td>\n",
       "      <td>36.0</td>\n",
       "      <td>Golden or Blonde Ale</td>\n",
       "      <td>Golden or Blonde ales are straw to golden blon...</td>\n",
       "      <td>No notes at this time.Added by EmperorBevis on...</td>\n",
       "      <td>5.0</td>\n",
       "      <td>3.0</td>\n",
       "      <td>7.0</td>\n",
       "    </tr>\n",
       "  </tbody>\n",
       "</table>\n",
       "</div>"
      ],
      "text/plain": [
       "   Unnamed: 0      id                      name   abv  ibu  originalGravity  \\\n",
       "0           0  njehqH                   144 IPA   NaN    0            1.060   \n",
       "1           1  EVVV1r          1488 Whisky Beer   7.0    0              NaN   \n",
       "2           2  295GZo      19 Original Colonies   5.5    0            1.008   \n",
       "3           3  Np1soi  666 Premium British Beer   6.6    0            1.033   \n",
       "4           4  7xU7NH             Ace of Simcoe   4.5    0              NaN   \n",
       "5           5  KgqNri      After Party Pale Ale   5.3    0            1.060   \n",
       "6           6  TwnIXA                 Amber Rye   5.5    0            1.044   \n",
       "7           7  O6CToa      American Barley Wine  11.5    0            1.090   \n",
       "8           8  3D7Ba5              American IPA   5.0    0            1.060   \n",
       "9           9  MDmjnK        Artesian Light Ale   3.8    0            1.045   \n",
       "\n",
       "   ogMin isOrganic  categoryId               category_name  styleId  \\\n",
       "0  1.060         N         3.0  North American Origin Ales     30.0   \n",
       "1    NaN         N        11.0           Hybrid/mixed Beer    138.0   \n",
       "2    NaN         Y        12.0        Mead, Cider, & Perry    148.0   \n",
       "3  1.033         N         1.0         British Origin Ales      3.0   \n",
       "4    NaN         N         3.0  North American Origin Ales    164.0   \n",
       "5  1.060         N         3.0  North American Origin Ales     30.0   \n",
       "6  1.044         N         8.0        North American Lager     97.0   \n",
       "7  1.090         N         3.0  North American Origin Ales     34.0   \n",
       "8  1.060         N         3.0  North American Origin Ales     30.0   \n",
       "9  1.045         N         3.0  North American Origin Ales     36.0   \n",
       "\n",
       "                       style_name  \\\n",
       "0   American-Style India Pale Ale   \n",
       "1       Other Strong Ale or Lager   \n",
       "2              Open Category Mead   \n",
       "3                 Ordinary Bitter   \n",
       "4          Session India Pale Ale   \n",
       "5   American-Style India Pale Ale   \n",
       "6    American-Style Premium Lager   \n",
       "7  American-Style Barley Wine Ale   \n",
       "8   American-Style India Pale Ale   \n",
       "9            Golden or Blonde Ale   \n",
       "\n",
       "                                   style_description  \\\n",
       "0  American-style India pale ales are perceived t...   \n",
       "1  Any style of beer can be made stronger than th...   \n",
       "2  This mead should exhibit the character of all ...   \n",
       "3  Ordinary bitter is gold to copper colored with...   \n",
       "4  Session India Pale Ales are gold to copper. Ch...   \n",
       "5  American-style India pale ales are perceived t...   \n",
       "6  This style has low malt (and adjunct) sweetnes...   \n",
       "7  American style barley wines range from amber t...   \n",
       "8  American-style India pale ales are perceived t...   \n",
       "9  Golden or Blonde ales are straw to golden blon...   \n",
       "\n",
       "                                    beer_description  srmId  srmMin  srmMax  \n",
       "0  Duplicate listingAdded by ThatsThatDude on 05-...   10.0     6.0    14.0  \n",
       "1  No notes at this time.Added by geexploitation ...    NaN     NaN     NaN  \n",
       "2  19 Original Colonies Mead is brewed using 5 in...    NaN     NaN     NaN  \n",
       "3                                                NaN    8.5     5.0    12.0  \n",
       "4  Single hop awesomeness, shining a spotlight on...    NaN     NaN     NaN  \n",
       "5  Duplicate of https://www.beeradvocate.com/beer...   10.0     6.0    14.0  \n",
       "6      No notes at this time.Added by  on 09-16-2009    4.0     2.0     6.0  \n",
       "7  No notes at this time.Added by mattvandyk on 0...   16.5    11.0    22.0  \n",
       "8  Our American IPA gets its bold hop flavor from...   10.0     6.0    14.0  \n",
       "9  No notes at this time.Added by EmperorBevis on...    5.0     3.0     7.0  "
      ]
     },
     "execution_count": 3,
     "metadata": {},
     "output_type": "execute_result"
    }
   ],
   "source": [
    "#view top 10 rows of beer DataFrame\n",
    "beer.head(10)"
   ]
  },
  {
   "cell_type": "code",
   "execution_count": 4,
   "metadata": {
    "collapsed": false
   },
   "outputs": [
    {
     "data": {
      "text/plain": [
       "Unnamed: 0              0\n",
       "id                      0\n",
       "name                    0\n",
       "abv                   193\n",
       "ibu                     0\n",
       "originalGravity      1126\n",
       "ogMin                1407\n",
       "isOrganic               0\n",
       "categoryId             76\n",
       "category_name          76\n",
       "styleId                76\n",
       "style_name             76\n",
       "style_description      80\n",
       "beer_description      931\n",
       "srmId                1066\n",
       "srmMin               1385\n",
       "srmMax               1416\n",
       "dtype: int64"
      ]
     },
     "execution_count": 4,
     "metadata": {},
     "output_type": "execute_result"
    }
   ],
   "source": [
    "#check how many values are still missing\n",
    "beer.isnull().sum()"
   ]
  },
  {
   "cell_type": "code",
   "execution_count": 4,
   "metadata": {
    "collapsed": false
   },
   "outputs": [
    {
     "data": {
      "text/plain": [
       "No notes at this time.Added by Quaffer on 09-04-2001                                                                                                                                                                                                                                                                                                                                                                                                                                                                                                                                                                                                                                                                                                                                                                                                                                                24\n",
       "Esquire Magazine calls our 90 Minute IPA \"perhaps the best IPA in America.\" An imperial IPA best savored from a snifter, 90 Minute has a great malt backbone that stands up to the extreme hopping rate.\\r\\n\\r\\r\\n90 Minute IPA was the first beer we continuously hopped, allowing for a pungent -- but not crushing -- hop flavor.\\r\\n\\r\\r\\n90 IBUAdded by BeerAdvocate on 11-19-2001                                                                                                                                                                                                                                                                                                                                                                                                                                                                                                             13\n",
       "Toasted, chocolaty dark malts align with an astronomical amount of hops.\\r\\n\\r\\r\\n109 IBUAdded by TheFlern on 03-10-2011                                                                                                                                                                                                                                                                                                                                                                                                                                                                                                                                                                                                                                                                                                                                                                             9\n",
       "No notes at this time.Added by BeerAdvocate on 12-21-2000                                                                                                                                                                                                                                                                                                                                                                                                                                                                                                                                                                                                                                                                                                                                                                                                                                            9\n",
       "No notes at this time.Added by kbub6f on 10-07-2000                                                                                                                                                                                                                                                                                                                                                                                                                                                                                                                                                                                                                                                                                                                                                                                                                                                  8\n",
       "Description                                                                                                                                                                                                                                                                                                                                                                                                                                                                                                                                                                                                                                                                                                                                                                                                                                                                                          7\n",
       "No notes at this time.Added by kbub6f on 01-18-2001                                                                                                                                                                                                                                                                                                                                                                                                                                                                                                                                                                                                                                                                                                                                                                                                                                                  7\n",
       "No notes at this time.Added by ClockworkOrange on 03-12-2009                                                                                                                                                                                                                                                                                                                                                                                                                                                                                                                                                                                                                                                                                                                                                                                                                                         7\n",
       "No notes at this time.Added by Todd on 11-15-2001                                                                                                                                                                                                                                                                                                                                                                                                                                                                                                                                                                                                                                                                                                                                                                                                                                                    6\n",
       "Generous quantities of premium Cascade hops give the Pale Ale its fragrant bouquet and spicy flavor.\\r\\n\\r\\r\\n37 IBUAdded by kbub6f on 07-05-2001                                                                                                                                                                                                                                                                                                                                                                                                                                                                                                                                                                                                                                                                                                                                                    6\n",
       "Our award-winning barleywine boasts a dense, fruity bouquet, an intense flavor palate and a deep reddish-brown color. Its big maltiness is superbly balanced by a wonderfully bittersweet hoppiness.\\r\\r\\r\\r\\n\\r\\r\\r\\r\\n\\r\\r\\r\\r\\nMalts: Two Row Pale & English Carmel\\r\\r\\r\\r\\nYeast: Ale Yeast\\r\\r\\r\\r\\nBittering Hops: Chinook\\r\\r\\r\\r\\nFinishing Hops: Cascade & Centennial\\r\\r\\r\\r\\nDry Hops: Cascade, Centennial & Chinook                                                                                                                                                                                                                                                                                                                                                                                                                                                                     6\n",
       "No notes at this time.Added by Bitterbill on 09-10-2000                                                                                                                                                                                                                                                                                                                                                                                                                                                                                                                                                                                                                                                                                                                                                                                                                                              6\n",
       "HERCULES DOUBLE IPA is not for the faint of heart. It is, however, fit for the gods. HERCULES delivers a huge amount of hops from start to finish. Its hefty backbone of nutty, malty sweetness balances its aggressive hop profile. 85 IBUs.Added by filabrazilia on 04-11-2004                                                                                                                                                                                                                                                                                                                                                                                                                                                                                                                                                                                                                     6\n",
       "Brewed by Harpoon brewer Katie Tame, using Island Creek oyster farmer Skip Bennett’s revered Duxbury Bay oysters, this beer has a rich body and smooth mouthfeel derived in part from a combination of roasted barley and chocolate rye malts. The roasted malt notes blend beautifully with the briny, mineral flavors of the Island Creek oysters. An addition of hops adds some bitterness to balance the malt sweetness. This, the 30th installment of the Harpoon 100 Barrel Series, is best enjoyed with a plate full of Island Creek Oysters.\\r\\n\\r\\r\\n35 IBUAdded by BeerAdvocate on 01-21-2010This beer is retired; no longer brewed.                                                                                                                                                                                                                                                       6\n",
       "No notes at this time.Added by BeerAdvocate on 12-05-2000                                                                                                                                                                                                                                                                                                                                                                                                                                                                                                                                                                                                                                                                                                                                                                                                                                            6\n",
       "No absence of hops gives Founders' robust porter the full flavor you deserve and expect. \\r\\n\\r\\r\\n45 IBUAdded by BeerAdvocate on 02-11-2003                                                                                                                                                                                                                                                                                                                                                                                                                                                                                                                                                                                                                                                                                                                                                         5\n",
       "No notes at this time.Added by jaydoc on 01-19-2016                                                                                                                                                                                                                                                                                                                                                                                                                                                                                                                                                                                                                                                                                                                                                                                                                                                  5\n",
       "Available September to March.Added by ypsifly on 01-28-2006                                                                                                                                                                                                                                                                                                                                                                                                                                                                                                                                                                                                                                                                                                                                                                                                                                          5\n",
       "No notes at this time.Added by kbub6f on 07-08-2001                                                                                                                                                                                                                                                                                                                                                                                                                                                                                                                                                                                                                                                                                                                                                                                                                                                  5\n",
       "No notes at this time.Added by papat444 on 12-10-2015                                                                                                                                                                                                                                                                                                                                                                                                                                                                                                                                                                                                                                                                                                                                                                                                                                                5\n",
       "Classified by the brewery as an \"Imperial Red/Double IPA\" 8.7% ABV, 60 IBUsAdded by BeerAdvocate on 03-12-2003                                                                                                                                                                                                                                                                                                                                                                                                                                                                                                                                                                                                                                                                                                                                                                                       5\n",
       "Availability: Sep - Dec\\r\\n\\r\\r\\nBrewed with flaked oats, bitter and sweetened imported chocolates, Sumatra and Kona coffee.\\r\\n\\r\\r\\n60 IBUAdded by marburg on 07-26-2003                                                                                                                                                                                                                                                                                                                                                                                                                                                                                                                                                                                                                                                                                                                           5\n",
       "No notes at this time.Added by DrunkinYogi on 01-06-2016                                                                                                                                                                                                                                                                                                                                                                                                                                                                                                                                                                                                                                                                                                                                                                                                                                             5\n",
       "No notes at this time.Added by BeerFMAndy on 04-25-2014This beer is retired; no longer brewed.                                                                                                                                                                                                                                                                                                                                                                                                                                                                                                                                                                                                                                                                                                                                                                                                       5\n",
       "No notes at this time.Added by tdm168 on 05-07-2015                                                                                                                                                                                                                                                                                                                                                                                                                                                                                                                                                                                                                                                                                                                                                                                                                                                  5\n",
       "Our Dry Hopped American Pale Ale (APA) is charged with American hops to create a bold, aromatic ale. Assertive hop flavor joins the pine/citrus aroma characteristic of American hops to balance the full body provided by North American malts. After fermentation, the beer circulates through a bed of Cascade and Chinook hops, boosting the distinctive hop aroma of this satisfying ale.\\r\\n\\r\\r\\nIn the long view of the history of beer, American Pale Ale is a newcomer.  Based on English Pale Ale, American brewers adapted this style into something new.  Born out of the reverence English Pale Ales during the 1980’s American beer scene, APA is the bold, hoppier cousin of Pale Ale.  With an emphasis on American hops, APA is gaining popularity with breweries racing to make these ales with such great hop characters.\\r\\n\\r\\r\\n50 IBUAdded by BeerAdvocate on 04-09-2007     5\n",
       "No notes at this time.Added by Iamjeff6 on 11-06-2015                                                                                                                                                                                                                                                                                                                                                                                                                                                                                                                                                                                                                                                                                                                                                                                                                                                5\n",
       "No notes at this time.Added by BeerAdvocate on 09-15-2001                                                                                                                                                                                                                                                                                                                                                                                                                                                                                                                                                                                                                                                                                                                                                                                                                                            5\n",
       "No notes at this time.Added by kbub6f on 02-06-1998                                                                                                                                                                                                                                                                                                                                                                                                                                                                                                                                                                                                                                                                                                                                                                                                                                                  4\n",
       "No notes at this time.Added by SpaCityJonboy on 06-23-2015                                                                                                                                                                                                                                                                                                                                                                                                                                                                                                                                                                                                                                                                                                                                                                                                                                           4\n",
       "                                                                                                                                                                                                                                                                                                                                                                                                                                                                                                                                                                                                                                                                                                                                                                                                                                                                                                    ..\n",
       "Our second offering. Not for the hop squeamish.  Anti-sessionable in nature, Mother Hoppin' is deep orange in color, rich in malty sweetness and heavily dry hopped with Amarillo hops.  10.1%  ABV and 93 IBUs.  Keep an eye out for her every 3 months or so on as a limited small batch release.                                                                                                                                                                                                                                                                                                                                                                                                                                                                                                                                                                                                  1\n",
       "Ole Rowdy Rooster is an unfiltered west coast style double IPA​ with light to medium hop haze, caused by the massive amount of dank American hops. The 'Rooster' has a juicy tropical fruit flavor and aroma, this beer pushes the limits of bittering without destroying your pallet. The 8% ABV is smooth and dangerous!                                                                                                                                                                                                                                                                                                                                                                                                                                                                                                                                                                           1\n",
       "The Beer from IPAnema    11% ABV,  100 IBU’s\\r\\r\\r\\nThis beer is brewed in the Double IPA style. \\r\\r\\r\\nIt is very strong in alcohol and should be treated with respect. This brew is rich with soft malt notes and the pineapple like aroma of Mosaic hops.  Alcohol provides the burn and the body to stand up the IBU load in this Hopzilla of a brew. \\r\\r\\r\\n \\r\\r\\r\\n♫ Tall and tan and young and lovely\\r\\r\\r\\nThe beer from Ipanema goes walking\\r\\r\\r\\nAnd when she passes, each one she passes goes “A-a-a-h” ♫                                                                                                                                                                                                                                                                                                                                                                           1\n",
       "Deacon Blues is a hazy yellow Extra Pale Ale brewed with bold American hops, but fermented with a Belgian yeast strain.  Diverse aromas of pronounced citrus fruit with subtle layers of spiciness, are the first indication of the array of flavors stemming from this light bodied ale.  Snappy lemon qualities, along with a fresh ginger-like liveliness, flow appropriately into a grassy bitterness that’s moderately intense, but certainly not overwhelming.                                                                                                                                                                                                                                                                                                                                                                                                                                 1\n",
       "Barrio Rojo is our newest version of a low hop, very malty, Scottish Ale. Traditionally Scottish Ales contained very minimal to zero hops allowing the higher amount of malt to shine through in the form of sweetness. We took our time to caramelize the brewing sugars to create a low bitterness, sweet beer with notes of caramel brown sugar and cinnamon.                                                                                                                                                                                                                                                                                                                                                                                                                                                                                                                                     1\n",
       "Milk stout made with oats and locally roasted Coffee Emporium coffee. Moo-cha-licious.                                                                                                                                                                                                                                                                                                                                                                                                                                                                                                                                                                                                                                                                                                                                                                                                               1\n",
       "Our first “real” collaboration other brewers was done with Aaron and Ben Lucas, a duo of brew-happy brothers that work at Closed for Business. It’s a triple threat of sorts - a hoppy, rye, brown ale. While it’s a bit strong for the style, the big hop addition and the rye’s bitterness help contribute to the proverbial “bite,” cutting cleanly through the malt for a balanced drinking experience.                                                                                                                                                                                                                                                                                                                                                                                                                                                                                          1\n",
       "Farrell’s Irish Red was the first beer ever produced by Nebraska Brewing Company.  A medium bodied ale  that has found its was into the hearts of our faithful fans and embraced by all who enjoy its subtle mesh of rich malted barley varieties.                                                                                                                                                                                                                                                                                                                                                                                                                                                                                                                                                                                                                                                   1\n",
       "This American sour is a celebration of 21 years of brewing. Soured with lactobacillus and brettanomyces and aged for 9 months in wine barrels.Added by Prospero on 01-24-2015This beer is retired; no longer brewed.                                                                                                                                                                                                                                                                                                                                                                                                                                                                                                                                                                                                                                                                                 1\n",
       "This is a great representation of the style. With a diverse malt bill, Hersbrucker, and Czech Saaz hops you can enjoy all the wonderful flavors a farmhouse ale has to offer balancing hops, malt, and the earthy flavors of saison yeast.                                                                                                                                                                                                                                                                                                                                                                                                                                                                                                                                                                                                                                                           1\n",
       "East coast style IPA with strong earthy resin and citrus notes from Nugget, Centennial and Equinox hops; finishes hoppy and dry.                                                                                                                                                                                                                                                                                                                                                                                                                                                                                                                                                                                                                                                                                                                                                                     1\n",
       "The Alpha refers to this beers strength and it's alpha acid content.\\r\\r\\r\\r\\n\\r\\r\\r\\r\\nThe next brew in our Mastodon series of IPAs, we went big again. Heavily hopped, \\r\\r\\r\\r\\n\\r\\r\\r\\r\\nand then dry-hopped twice to enhance the Cascade hop aroma. If you hate hops, \\r\\r\\r\\r\\n\\r\\r\\r\\r\\nthen you will hate this beer!                                                                                                                                                                                                                                                                                                                                                                                                                                                                                                                                                                         1\n",
       "This Black IPA is jammed with hop flavor from Simcoe and Ahtanum hops with the addition of rye malt to add a smooth finish.                                                                                                                                                                                                                                                                                                                                                                                                                                                                                                                                                                                                                                                                                                                                                                          1\n",
       "We paired up with a local Iowa City roaster to combine two of the greatest black beverages.                                                                                                                                                                                                                                                                                                                                                                                                                                                                                                                                                                                                                                                                                                                                                                                                          1\n",
       "Collaboration with Yeastie Boys of New Zealand.Added by ADZA on 09-07-2012This beer is retired; no longer brewed.                                                                                                                                                                                                                                                                                                                                                                                                                                                                                                                                                                                                                                                                                                                                                                                    1\n",
       "This deep, dark, viscous brew stands up to other imperial stouts while standing out from the pack thanks to a harmonious infusion of two different hop varieties – Nugget and Centennial. \\r\\r\\r\\r\\nRobust and chocolaty, with a spike of hop freshness, it's the perfect beer to warm up with as winter sets in.                                                                                                                                                                                                                                                                                                                                                                                                                                                                                                                                                                                    1\n",
       "No notes at this time.Added by mountaincoffee on 04-27-2014                                                                                                                                                                                                                                                                                                                                                                                                                                                                                                                                                                                                                                                                                                                                                                                                                                          1\n",
       "Real spearmint and peppermint\\r\\r\\r\\r\\n\\r\\r\\r\\r\\nNot extract — combine with cocoa nibs and vanilla beans to create your reward for making it through winter.\\r\\r\\r\\r\\n\\r\\r\\r\\r\\nAncient Greeks tell us (’cause we talk to them) that Persephone turned Minthe into a mint plant in a jealous rage, to keep the little nymph away from her man Hades. Jealous rages rarely end well, but if one did result in mint we’re glad: this is a unique and delicious stout, and we recommend having one while you calm the hell down.\\r\\r\\r\\r\\n\\r\\r\\r\\r\\nSOUL MATES  - A sweet stout with real peppermint, spearmint, cocoa nibs and vanilla beans. A great dessert beer, or try it alongside any dish with mint in it, like Thai Grilled Beef Salad.                                                                                                                                                        1\n",
       "Ölen du håller i din hand är en American Pale Ale (APA). När denna skapades i USA användes den lokalt odlade humlen. Detta gav rikliga toner av citrus. Som brukligt är i USA snålades det inte heller med dom väldoftande råvarorna.\\r\\r\\r\\r\\nMycket är helt enkelt mer! \\r\\r\\r\\r\\n\\r\\r\\r\\r\\n\"Jag brinner för att göra öl med tydlig humlekaraktär. Här har jag arbetat med humlesorterna Cascade och Citra som ger en fräsch citruston.\"                                                                                                                                                                                                                                                                                                                                                                                                                                                           1\n",
       "LMFAO Stout aged with vanilla beans.                                                                                                                                                                                                                                                                                                                                                                                                                                                                                                                                                                                                                                                                                                                                                                                                                                                                 1\n",
       "An stronger pale ale brewed with english malt for its biscuit and nutty flavor profile and west coast hops bringing out some citrus and floral flavors.                                                                                                                                                                                                                                                                                                                                                                                                                                                                                                                                                                                                                                                                                                                                              1\n",
       "No notes at this time.Added by sinstaineddemon on 05-26-2009This beer is retired; no longer brewed.                                                                                                                                                                                                                                                                                                                                                                                                                                                                                                                                                                                                                                                                                                                                                                                                  1\n",
       "Our spiced brown ale brewed with cloves, cinnamon, allspice and ginger just in time for the holidays. This unique brew from the mind of Brewer Jon is a deliciously sweet, spicy, earthy beer here to help you enjoy family and hearth.                                                                                                                                                                                                                                                                                                                                                                                                                                                                                                                                                                                                                                                              1\n",
       "Russian Imperial Stout oaked for two weeks on medium+ roast oak spiral, brewed for CBC Copenhagen Beer Celebration 2016 (Scandinavian Bar)                                                                                                                                                                                                                                                                                                                                                                                                                                                                                                                                                                                                                                                                                                                                                           1\n",
       "Oktoberfest Märzen – Characterized by a medium body, a malty flavor and a clean dry finish, this is our version of the traditional Oktoberfest beer originating in 16th century Bavaria. 23 IBU’s and 5% ABV                                                                                                                                                                                                                                                                                                                                                                                                                                                                                                                                                                                                                                                                                         1\n",
       "Brewed originally in 2010 to celebrate our one-hundredth batch at the brewpub and the third installment of our Fist series, this is one seriously hoppy ale! A beautiful burnt orange hue and a underlying caramel flavor to balance out the hop bitterness. Aromas of fresh-cut tangerines and mango from Citra, Cascade, and Chinook hops. The rest is up to your imagination.                                                                                                                                                                                                                                                                                                                                                                                                                                                                                                                     1\n",
       "Crisp California IPA. Tropical, resinous, and intensely dank!                                                                                                                                                                                                                                                                                                                                                                                                                                                                                                                                                                                                                                                                                                                                                                                                                                        1\n",
       "Mahogany in color, Rook has a bold malt character with woody notes. Peat smoked malt creates a distinctive earthy Scottish flavor that complements English toffee notes. Ideally served at 50 - 55°F.                                                                                                                                                                                                                                                                                                                                                                                                                                                                                                                                                                                                                                                                                                1\n",
       "Copper colored and hazy IPA features seven \"C\" hops with an extra large dose of Centennial; aroma is very floral, with big floral and citrus flavor and subtle earthy and spices hop notes; finishes with pronounced drying bitterness and a light-medium body.                                                                                                                                                                                                                                                                                                                                                                                                                                                                                                                                                                                                                                      1\n",
       "A pale golden ale with mild fruity and spicy characteristics and a crisp finish.                                                                                                                                                                                                                                                                                                                                                                                                                                                                                                                                                                                                                                                                                                                                                                                                                     1\n",
       "Name: beer_description, dtype: int64"
      ]
     },
     "execution_count": 4,
     "metadata": {},
     "output_type": "execute_result"
    }
   ],
   "source": [
    "#check to see what what values were filled in from the web scraping for beer_description.\n",
    "#oh crap.  there are what amounts to \"NaN\" values still ad also useless information in the 'Added by'.\n",
    "beer['beer_description'].value_counts()"
   ]
  },
  {
   "cell_type": "code",
   "execution_count": 5,
   "metadata": {
    "collapsed": true
   },
   "outputs": [],
   "source": [
    "#define a function to turn the 'No Notes At This Time' form beeradvocate.com into NaN values.\n",
    "def f(x):\n",
    "    if x and type(x) is not float:\n",
    "        if 'No notes at thi' in x:\n",
    "            return None\n",
    "        \n",
    "        return x.split('Added')[0]"
   ]
  },
  {
   "cell_type": "code",
   "execution_count": 6,
   "metadata": {
    "collapsed": true
   },
   "outputs": [],
   "source": [
    "#apply the function to the desired column\n",
    "beer['beer_description'] = beer['beer_description'].apply(f)"
   ]
  },
  {
   "cell_type": "code",
   "execution_count": 7,
   "metadata": {
    "collapsed": false
   },
   "outputs": [
    {
     "data": {
      "text/plain": [
       "Unnamed: 0              0\n",
       "id                      0\n",
       "name                    0\n",
       "abv                   193\n",
       "ibu                     0\n",
       "originalGravity      1126\n",
       "ogMin                1407\n",
       "isOrganic               0\n",
       "categoryId             76\n",
       "category_name          76\n",
       "styleId                76\n",
       "style_name             76\n",
       "style_description      80\n",
       "beer_description     2865\n",
       "srmId                1066\n",
       "srmMin               1385\n",
       "srmMax               1416\n",
       "dtype: int64"
      ]
     },
     "execution_count": 7,
     "metadata": {},
     "output_type": "execute_result"
    }
   ],
   "source": [
    "#check the results.\n",
    "#crap still a lot of missing values but only 76 missing stylyId so I can fill those in by hand without too much trouble.\n",
    "beer.isnull().sum()"
   ]
  },
  {
   "cell_type": "code",
   "execution_count": null,
   "metadata": {
    "collapsed": false
   },
   "outputs": [],
   "source": []
  },
  {
   "cell_type": "code",
   "execution_count": null,
   "metadata": {
    "collapsed": false
   },
   "outputs": [],
   "source": []
  },
  {
   "cell_type": "code",
   "execution_count": 502,
   "metadata": {
    "collapsed": false
   },
   "outputs": [
    {
     "data": {
      "text/html": [
       "<div>\n",
       "<table border=\"1\" class=\"dataframe\">\n",
       "  <thead>\n",
       "    <tr style=\"text-align: right;\">\n",
       "      <th></th>\n",
       "      <th>Unnamed: 0</th>\n",
       "      <th>id</th>\n",
       "      <th>name</th>\n",
       "      <th>abv</th>\n",
       "      <th>ibu</th>\n",
       "      <th>originalGravity</th>\n",
       "      <th>ogMin</th>\n",
       "      <th>isOrganic</th>\n",
       "      <th>categoryId</th>\n",
       "      <th>category_name</th>\n",
       "      <th>styleId</th>\n",
       "      <th>style_name</th>\n",
       "      <th>style_description</th>\n",
       "      <th>beer_description</th>\n",
       "      <th>srmId</th>\n",
       "      <th>srmMin</th>\n",
       "      <th>srmMax</th>\n",
       "      <th>duplicate</th>\n",
       "    </tr>\n",
       "  </thead>\n",
       "  <tbody>\n",
       "  </tbody>\n",
       "</table>\n",
       "</div>"
      ],
      "text/plain": [
       "Empty DataFrame\n",
       "Columns: [Unnamed: 0, id, name, abv, ibu, originalGravity, ogMin, isOrganic, categoryId, category_name, styleId, style_name, style_description, beer_description, srmId, srmMin, srmMax, duplicate]\n",
       "Index: []"
      ]
     },
     "execution_count": 502,
     "metadata": {},
     "output_type": "execute_result"
    }
   ],
   "source": [
    "#pull up the first instance of a missing styleId.  note: there are not more missing values for this column in the DataFrame anymore\n",
    "beer[beer['styleId'].isnull() == True].head(1)\n"
   ]
  },
  {
   "cell_type": "code",
   "execution_count": 499,
   "metadata": {
    "collapsed": false
   },
   "outputs": [
    {
     "data": {
      "text/plain": [
       "'This hop megatron bomb blasts your palette in places you didn\\xe2\\x80\\x99t know you had taste buds.  Brilliantly golden, with a faintly green hue due to the incessant hop additions that continue from 1st wort through the boil, the hopback, primary and secondary fermentations, cold aging and the serving vessel\\xe2\\x80\\x94this skillfully crafted beer has enough alpha acids in it to bitter a barleywine three times its size.  A liquid death-metal lyric to the essential essence of humulus lupulus--not for the faint of hop.'"
      ]
     },
     "execution_count": 499,
     "metadata": {},
     "output_type": "execute_result"
    }
   ],
   "source": [
    "#read the description to determine the style.  If there is not description or if the description is not helpful just google the\n",
    "#beer and see what kind of styly it is.\n",
    "beer.iloc[19538,13]"
   ]
  },
  {
   "cell_type": "code",
   "execution_count": 500,
   "metadata": {
    "collapsed": false
   },
   "outputs": [],
   "source": [
    "#fill in the styleId and sty_name from search results.\n",
    "#take the opportunity to fill in any missing information for these beers.  Some had missing IBU, ABV, or descriptions\n",
    "beer.iloc[19237, 13] = 'We brewed this ale with the famous sake yeast No 7 from Masumi Sake in Nagano, Japan. On advise from Masumi’s master brewers, we fermented this ale very slowly at low temperatures to bring out No 7’s fabulously fruity character. This product is unfiltered and unpasteurized. Please enjoy chilled! Special thanks to Masumi!' \n",
    "beer.iloc[19538,10] = 31\n",
    "beer.iloc[19538,11] = 'Imperial or Double India Pale Ale'"
   ]
  },
  {
   "cell_type": "code",
   "execution_count": 501,
   "metadata": {
    "collapsed": false,
    "scrolled": true
   },
   "outputs": [
    {
     "name": "stdout",
     "output_type": "stream",
     "text": [
      "This hop megatron bomb blasts your palette in places you didn’t know you had taste buds.  Brilliantly golden, with a faintly green hue due to the incessant hop additions that continue from 1st wort through the boil, the hopback, primary and secondary fermentations, cold aging and the serving vessel—this skillfully crafted beer has enough alpha acids in it to bitter a barleywine three times its size.  A liquid death-metal lyric to the essential essence of humulus lupulus--not for the faint of hop.\n",
      "31.0\n",
      "Imperial or Double India Pale Ale\n"
     ]
    }
   ],
   "source": [
    "#this was my history of changes to make sure that if I made a mistake above I could know about it and fix it easily\n",
    "print beer.iloc[19538,13]\n",
    "print beer.iloc[19538,10]\n",
    "print beer.iloc[19538,11]"
   ]
  },
  {
   "cell_type": "code",
   "execution_count": null,
   "metadata": {
    "collapsed": false
   },
   "outputs": [],
   "source": []
  },
  {
   "cell_type": "code",
   "execution_count": 77,
   "metadata": {
    "collapsed": false
   },
   "outputs": [
    {
     "data": {
      "text/plain": [
       "False    16984\n",
       "True      2569\n",
       "Name: duplicate, dtype: int64"
      ]
     },
     "execution_count": 77,
     "metadata": {},
     "output_type": "execute_result"
    }
   ],
   "source": [
    "#uh oh there are duplicate names.  This actually makes sense since some names of beers are as broad as 'Octoberfest'.\n",
    "#There is a unique id for each row so this should just be duplicate names and not duplicate beers.\n",
    "beer['duplicate'] = beer['name'].duplicated(keep = False)\n",
    "beer.duplicate.value_counts()"
   ]
  },
  {
   "cell_type": "code",
   "execution_count": null,
   "metadata": {
    "collapsed": false
   },
   "outputs": [],
   "source": []
  },
  {
   "cell_type": "code",
   "execution_count": 566,
   "metadata": {
    "collapsed": true
   },
   "outputs": [],
   "source": [
    "#save the progress of filling in styleId information\n",
    "beer.to_csv('beer_11_16.csv', encoding = 'utf-8')"
   ]
  },
  {
   "cell_type": "code",
   "execution_count": 5,
   "metadata": {
    "collapsed": true
   },
   "outputs": [],
   "source": [
    "#reinstantiate beer with the new saved data\n",
    "beer = pd.read_csv('beer_11_16.csv')"
   ]
  },
  {
   "cell_type": "code",
   "execution_count": 7,
   "metadata": {
    "collapsed": false
   },
   "outputs": [
    {
     "data": {
      "text/plain": [
       "Unnamed: 0              0\n",
       "Unnamed: 0.1            0\n",
       "id                      0\n",
       "name                    0\n",
       "abv                     0\n",
       "ibu                     0\n",
       "originalGravity       244\n",
       "ogMin                 366\n",
       "isOrganic               0\n",
       "categoryId              9\n",
       "category_name           9\n",
       "styleId                 0\n",
       "style_name              0\n",
       "style_description       9\n",
       "beer_description     2643\n",
       "srmId                   0\n",
       "srmMin                339\n",
       "srmMax                349\n",
       "duplicate               0\n",
       "dtype: int64"
      ]
     },
     "execution_count": 7,
     "metadata": {},
     "output_type": "execute_result"
    }
   ],
   "source": [
    "#checking to see what columns have overlapping NaN values.\n",
    "beer.dropna(subset=['abv', 'srmId']).isnull().sum()"
   ]
  },
  {
   "cell_type": "code",
   "execution_count": null,
   "metadata": {
    "collapsed": true
   },
   "outputs": [],
   "source": []
  },
  {
   "cell_type": "code",
   "execution_count": 8,
   "metadata": {
    "collapsed": true
   },
   "outputs": [],
   "source": [
    "#Time to start trying to predict my missing values based on \n",
    "import nltk\n",
    "from sklearn.cross_validation import train_test_split, cross_val_score\n",
    "from sklearn.feature_extraction.text import CountVectorizer, TfidfVectorizer\n",
    "from sklearn.linear_model import LogisticRegression\n",
    "from sklearn.neighbors import KNeighborsClassifier\n",
    "from sklearn.preprocessing import StandardScaler\n",
    "from sklearn import metrics\n",
    "from textblob import TextBlob, Word\n",
    "from nltk.stem.snowball import SnowballStemmer\n",
    "from sklearn.grid_search import GridSearchCV\n",
    "from sklearn.pipeline import Pipeline, FeatureUnion, make_pipeline, make_union\n",
    "from sklearn.base import TransformerMixin, BaseEstimator\n",
    "from sklearn.ensemble import RandomForestClassifier, RandomForestRegressor"
   ]
  },
  {
   "cell_type": "code",
   "execution_count": 9,
   "metadata": {
    "collapsed": true
   },
   "outputs": [],
   "source": [
    "#create a training set that has non NaN values for all columns\n",
    "beer_train = beer.dropna()"
   ]
  },
  {
   "cell_type": "code",
   "execution_count": 10,
   "metadata": {
    "collapsed": false
   },
   "outputs": [
    {
     "data": {
      "text/plain": [
       "(15322, 19)"
      ]
     },
     "execution_count": 10,
     "metadata": {},
     "output_type": "execute_result"
    }
   ],
   "source": [
    "beer_train.shape"
   ]
  },
  {
   "cell_type": "code",
   "execution_count": 534,
   "metadata": {
    "collapsed": false
   },
   "outputs": [
    {
     "data": {
      "text/plain": [
       "Unnamed: 0           0\n",
       "id                   0\n",
       "name                 0\n",
       "abv                  0\n",
       "ibu                  0\n",
       "originalGravity      0\n",
       "ogMin                0\n",
       "isOrganic            0\n",
       "categoryId           0\n",
       "category_name        0\n",
       "styleId              0\n",
       "style_name           0\n",
       "style_description    0\n",
       "beer_description     0\n",
       "srmId                0\n",
       "srmMin               0\n",
       "srmMax               0\n",
       "duplicate            0\n",
       "dtype: int64"
      ]
     },
     "execution_count": 534,
     "metadata": {},
     "output_type": "execute_result"
    }
   ],
   "source": [
    "beer_train.isnull().sum()"
   ]
  },
  {
   "cell_type": "code",
   "execution_count": 12,
   "metadata": {
    "collapsed": true
   },
   "outputs": [],
   "source": [
    "#One of the beer specific columns in the DataFrame is text.  This means that I need a way to to isloate the text column from the\n",
    "#numeic columns in order to vectorize them.  Then I will need to featureunion them with the numeric columns.  That means I need\n",
    "#to create two custom transformers that will fit into a pipeline to accomplish this.\n",
    "class Text_to_Vector(BaseEstimator, TransformerMixin):\n",
    "    def transform(self, X, **transform_params):\n",
    "               \n",
    "        return X['beer_description'].map(lambda x:x.lower())\n",
    "\n",
    "    def fit(self, X, y=None, **fit_params):\n",
    "        return self\n",
    "    \n",
    "class Get_Numeric_Features(BaseEstimator, TransformerMixin):\n",
    "    def transform(self, X, **transform_params):\n",
    "        return X[feature_cols]\n",
    "    \n",
    "    def fit(self, X, y=None, **fit_params):\n",
    "        return self"
   ]
  },
  {
   "cell_type": "code",
   "execution_count": null,
   "metadata": {
    "collapsed": true
   },
   "outputs": [],
   "source": [
    "#A pipeline that will use KNN to predict styleId from the other feature columns.  This was experimentation in using machine\n",
    "#learning that I did before deciding to fill in missing styleId values by hand.\n",
    "pipe = Pipeline([\n",
    "    ('features', FeatureUnion([\n",
    "        ('textcount', Pipeline([\n",
    "            ('text', Text_to_Vector()),\n",
    "            ('counts', CountVectorizer(max_features=50, stop_words='english'))\n",
    "        ])),\n",
    "        ('texttfidf', Pipeline([\n",
    "            ('text', Text_to_Vector()),    \n",
    "            ('tf_idf', TfidfVectorizer(max_features=50, stop_words='english'))\n",
    "        ])),\n",
    "        ('scale_num', Pipeline([\n",
    "            ('numeric', Get_Numeric_Features()),\n",
    "            ('scale', StandardScaler())\n",
    "        ]))])),\n",
    "    ('classifier', KNeighborsClassifier())\n",
    "    ])"
   ]
  },
  {
   "cell_type": "code",
   "execution_count": null,
   "metadata": {
    "collapsed": true
   },
   "outputs": [],
   "source": [
    "#Grid Search the KNN pipeline\n",
    "param_grid = {'classifier__n_neighbors':range(1,30),\n",
    "              'features__textcount__counts__ngram_range': [(1, 1), (1, 2), (1,3)],\n",
    "              'features__texttfidf__tf_idf__ngram_range':[(1, 1), (1, 2), (1,3)]}\n",
    "grid = GridSearchCV(pipe, param_grid, cv=5, scoring='accuracy')\n",
    "grid.fit(beer_train.drop('styleId', axis=1),beer_train.styleId)\n",
    "\n",
    "grid.grid_scores_\n",
    "grid_mean_scores = [result[1] for result in grid.grid_scores_]"
   ]
  },
  {
   "cell_type": "code",
   "execution_count": 13,
   "metadata": {
    "collapsed": false
   },
   "outputs": [],
   "source": [
    "# A pipeline that will use RandomForestClassifier to predict styleId\n",
    "pipe_rf = Pipeline([\n",
    "    ('features', FeatureUnion([\n",
    "        ('textcount', Pipeline([\n",
    "            ('text', Text_to_Vector()),\n",
    "            ('counts', CountVectorizer(max_features=50, stop_words='english'))\n",
    "        ])),\n",
    "        ('texttfidf', Pipeline([\n",
    "            ('text', Text_to_Vector()),    \n",
    "            ('tf_idf', TfidfVectorizer(max_features=50, stop_words='english'))\n",
    "        ])),\n",
    "        ('numeric', Get_Numeric_Features())\n",
    "        ])),\n",
    "    ('classifier', RandomForestClassifier())\n",
    "    ])"
   ]
  },
  {
   "cell_type": "code",
   "execution_count": null,
   "metadata": {
    "collapsed": false
   },
   "outputs": [],
   "source": [
    "#Grid search the RandomForest pipeline\n",
    "feature_cols = ['ibu', 'originalGravity', 'abv', 'srmId',]\n",
    "param_grid_rf = {'classifier__n_estimators' :range(10,310,10),\n",
    "              'features__textcount__counts__ngram_range': [(1, 1), (1, 2), (1,3)],\n",
    "              'features__texttfidf__tf_idf__ngram_range':[(1, 1), (1, 2), (1,3)]}\n",
    "grid = GridSearchCV(pipe_rf, param_grid_rf, cv=5, scoring='mean_squared_error')\n",
    "grid.fit(beer_train.drop('styleId', axis=1),beer_train.styleId)\n",
    "\n",
    "grid.grid_scores_\n",
    "grid_mean_scores = [result[1] for result in grid.grid_scores_]"
   ]
  },
  {
   "cell_type": "code",
   "execution_count": 536,
   "metadata": {
    "collapsed": false
   },
   "outputs": [],
   "source": [
    "#after deciding to fill in missing styleId values by hand the next step is to try to fill in other missing values.\n",
    "#This is a pipeline used to predict the value of 'originalGravity'.  I used a regressor instead of a classifier becuase\n",
    "#'originalGravity' is continuous response.\n",
    "pipe_num = Pipeline([\n",
    "        ('features', Get_Numeric_Features()),\n",
    "        ('classifier', RandomForestRegressor())\n",
    "    ])"
   ]
  },
  {
   "cell_type": "code",
   "execution_count": 560,
   "metadata": {
    "collapsed": false
   },
   "outputs": [],
   "source": [
    "#Grid Search the RF regressor pipeline.\n",
    "feature_cols = ['ibu', 'originalGravity', 'abv', 'srmId','styleId']\n",
    "X_train = beer_train[feature_cols]\n",
    "y_train = beer_train['originalGravity']\n",
    "param_grid_rf = {'classifier__n_estimators' :range(10,310,10), 'classifier__max_features' : range(1, len(feature_cols)+1)}\n",
    "grid = GridSearchCV(pipe_num, param_grid_rf, cv=5, scoring='mean_squared_error')\n",
    "grid.fit(X_train,y_train)\n",
    "grid.grid_scores_\n",
    "grid_mean_scores = [result[1] for result in grid.grid_scores_]"
   ]
  },
  {
   "cell_type": "code",
   "execution_count": 563,
   "metadata": {
    "collapsed": false,
    "scrolled": true
   },
   "outputs": [
    {
     "name": "stdout",
     "output_type": "stream",
     "text": [
      "[-0.00018994250437444235, -0.00018879244738558891, -0.00018825024821274273, -0.00018498967240130292, -0.00018610732914517295, -0.00018628234331499426, -0.00018832121501086472, -0.00018638228421064047, -0.00018555733977265948, -0.00018597664889176424, -0.00018441693441077878, -0.00018410548213996936, -0.0001844713372835402, -0.00018478945057739222, -0.00018591297582697792, -0.00018502011883896079, -0.00018559561537739998, -0.00018514268095629619, -0.00018602408775546017, -0.00018519345527880928, -0.00018423779543931366, -0.00018535747872779645, -0.00018452245209321332, -0.00018484330529897283, -0.0001845526702561661, -0.0001850005085922765, -0.00018412754654178136, -0.00018423785406951866, -0.00018389707398717259, -0.00018437780571909401, -0.0001938783793930137, -0.00019384671752888772, -0.00018894220308556605, -0.00019826056681164562, -0.00018963092257839095, -0.00018779739546166837, -0.0001884389579965283, -0.00018644664694554829, -0.0001880190545681724, -0.00018368858389443949, -0.00018698747252016691, -0.00018513784326408658, -0.00018573547230246393, -0.00018557646128167119, -0.00018495775156561746, -0.00018578101383668981, -0.00018546266986885408, -0.00018550612330421747, -0.00018648396230152838, -0.00018719629300203373, -0.00018574699716500341, -0.00018486566505404885, -0.00018501682332853185, -0.00018927492273773119, -0.00018623261467669568, -0.00018638594401528604, -0.0001852856780476481, -0.00018451831570062897, -0.00018581760837585849, -0.00018605358549922331, -0.00020989256235075466, -0.00019860340602608815, -0.00019575362332674252, -0.00019218046706841191, -0.00020402935990164976, -0.00019281499502756108, -0.00019132213228581615, -0.0001912151770860148, -0.00019179620320074897, -0.000192656300792683, -0.00019218603238073154, -0.00019412272313259585, -0.00019175034642197547, -0.00019275879558047272, -0.00019005352812966053, -0.00019281991711021283, -0.00019227829178197693, -0.00019209146302707483, -0.00018833270574025035, -0.00019107374701146085, -0.00019012051238005015, -0.00018916026324704801, -0.00019019940777643816, -0.00018980452987080217, -0.00019154653808238858, -0.00019229913834289893, -0.00019147723144249837, -0.00019009761374372917, -0.00019095334504512415, -0.00019104488319179088, -0.00021325935773778074, -0.00020934418136777641, -0.00019670486296406196, -0.00019973591129701404, -0.00020364827708037748, -0.00019938630261978846, -0.0001930207120137489, -0.00019692173035160615, -0.00019620752704729147, -0.00019539467636596009, -0.00019944662104811781, -0.00019475954247073302, -0.0001988170956658143, -0.00019309790408109543, -0.00019680606631291702, -0.00019776066339443444, -0.0001958302479598448, -0.00019834021077517409, -0.0001952816416203242, -0.00019403586933840363, -0.00019517297105968673, -0.0001981976968497632, -0.00019331640145118571, -0.00019508864357985561, -0.00019701517898852903, -0.00019942273707166592, -0.00020079839295820097, -0.0001967825928834627, -0.00019335876754173769, -0.00019594831335752679]\n",
      "[mean: -0.00019, std: 0.00014, params: {'classifier__max_features': 1, 'classifier__n_estimators': 10}, mean: -0.00019, std: 0.00015, params: {'classifier__max_features': 1, 'classifier__n_estimators': 20}, mean: -0.00019, std: 0.00015, params: {'classifier__max_features': 1, 'classifier__n_estimators': 30}, mean: -0.00018, std: 0.00015, params: {'classifier__max_features': 1, 'classifier__n_estimators': 40}, mean: -0.00019, std: 0.00014, params: {'classifier__max_features': 1, 'classifier__n_estimators': 50}, mean: -0.00019, std: 0.00015, params: {'classifier__max_features': 1, 'classifier__n_estimators': 60}, mean: -0.00019, std: 0.00014, params: {'classifier__max_features': 1, 'classifier__n_estimators': 70}, mean: -0.00019, std: 0.00015, params: {'classifier__max_features': 1, 'classifier__n_estimators': 80}, mean: -0.00019, std: 0.00015, params: {'classifier__max_features': 1, 'classifier__n_estimators': 90}, mean: -0.00019, std: 0.00014, params: {'classifier__max_features': 1, 'classifier__n_estimators': 100}, mean: -0.00018, std: 0.00014, params: {'classifier__max_features': 1, 'classifier__n_estimators': 110}, mean: -0.00018, std: 0.00014, params: {'classifier__max_features': 1, 'classifier__n_estimators': 120}, mean: -0.00018, std: 0.00015, params: {'classifier__max_features': 1, 'classifier__n_estimators': 130}, mean: -0.00018, std: 0.00015, params: {'classifier__max_features': 1, 'classifier__n_estimators': 140}, mean: -0.00019, std: 0.00015, params: {'classifier__max_features': 1, 'classifier__n_estimators': 150}, mean: -0.00019, std: 0.00015, params: {'classifier__max_features': 1, 'classifier__n_estimators': 160}, mean: -0.00019, std: 0.00015, params: {'classifier__max_features': 1, 'classifier__n_estimators': 170}, mean: -0.00019, std: 0.00015, params: {'classifier__max_features': 1, 'classifier__n_estimators': 180}, mean: -0.00019, std: 0.00015, params: {'classifier__max_features': 1, 'classifier__n_estimators': 190}, mean: -0.00019, std: 0.00015, params: {'classifier__max_features': 1, 'classifier__n_estimators': 200}, mean: -0.00018, std: 0.00015, params: {'classifier__max_features': 1, 'classifier__n_estimators': 210}, mean: -0.00019, std: 0.00015, params: {'classifier__max_features': 1, 'classifier__n_estimators': 220}, mean: -0.00018, std: 0.00015, params: {'classifier__max_features': 1, 'classifier__n_estimators': 230}, mean: -0.00018, std: 0.00014, params: {'classifier__max_features': 1, 'classifier__n_estimators': 240}, mean: -0.00018, std: 0.00014, params: {'classifier__max_features': 1, 'classifier__n_estimators': 250}, mean: -0.00019, std: 0.00015, params: {'classifier__max_features': 1, 'classifier__n_estimators': 260}, mean: -0.00018, std: 0.00015, params: {'classifier__max_features': 1, 'classifier__n_estimators': 270}, mean: -0.00018, std: 0.00015, params: {'classifier__max_features': 1, 'classifier__n_estimators': 280}, mean: -0.00018, std: 0.00015, params: {'classifier__max_features': 1, 'classifier__n_estimators': 290}, mean: -0.00018, std: 0.00015, params: {'classifier__max_features': 1, 'classifier__n_estimators': 300}, mean: -0.00019, std: 0.00015, params: {'classifier__max_features': 2, 'classifier__n_estimators': 10}, mean: -0.00019, std: 0.00015, params: {'classifier__max_features': 2, 'classifier__n_estimators': 20}, mean: -0.00019, std: 0.00015, params: {'classifier__max_features': 2, 'classifier__n_estimators': 30}, mean: -0.00020, std: 0.00016, params: {'classifier__max_features': 2, 'classifier__n_estimators': 40}, mean: -0.00019, std: 0.00015, params: {'classifier__max_features': 2, 'classifier__n_estimators': 50}, mean: -0.00019, std: 0.00015, params: {'classifier__max_features': 2, 'classifier__n_estimators': 60}, mean: -0.00019, std: 0.00015, params: {'classifier__max_features': 2, 'classifier__n_estimators': 70}, mean: -0.00019, std: 0.00015, params: {'classifier__max_features': 2, 'classifier__n_estimators': 80}, mean: -0.00019, std: 0.00015, params: {'classifier__max_features': 2, 'classifier__n_estimators': 90}, mean: -0.00018, std: 0.00015, params: {'classifier__max_features': 2, 'classifier__n_estimators': 100}, mean: -0.00019, std: 0.00015, params: {'classifier__max_features': 2, 'classifier__n_estimators': 110}, mean: -0.00019, std: 0.00015, params: {'classifier__max_features': 2, 'classifier__n_estimators': 120}, mean: -0.00019, std: 0.00015, params: {'classifier__max_features': 2, 'classifier__n_estimators': 130}, mean: -0.00019, std: 0.00015, params: {'classifier__max_features': 2, 'classifier__n_estimators': 140}, mean: -0.00018, std: 0.00015, params: {'classifier__max_features': 2, 'classifier__n_estimators': 150}, mean: -0.00019, std: 0.00015, params: {'classifier__max_features': 2, 'classifier__n_estimators': 160}, mean: -0.00019, std: 0.00015, params: {'classifier__max_features': 2, 'classifier__n_estimators': 170}, mean: -0.00019, std: 0.00015, params: {'classifier__max_features': 2, 'classifier__n_estimators': 180}, mean: -0.00019, std: 0.00015, params: {'classifier__max_features': 2, 'classifier__n_estimators': 190}, mean: -0.00019, std: 0.00015, params: {'classifier__max_features': 2, 'classifier__n_estimators': 200}, mean: -0.00019, std: 0.00015, params: {'classifier__max_features': 2, 'classifier__n_estimators': 210}, mean: -0.00018, std: 0.00015, params: {'classifier__max_features': 2, 'classifier__n_estimators': 220}, mean: -0.00019, std: 0.00015, params: {'classifier__max_features': 2, 'classifier__n_estimators': 230}, mean: -0.00019, std: 0.00015, params: {'classifier__max_features': 2, 'classifier__n_estimators': 240}, mean: -0.00019, std: 0.00015, params: {'classifier__max_features': 2, 'classifier__n_estimators': 250}, mean: -0.00019, std: 0.00015, params: {'classifier__max_features': 2, 'classifier__n_estimators': 260}, mean: -0.00019, std: 0.00015, params: {'classifier__max_features': 2, 'classifier__n_estimators': 270}, mean: -0.00018, std: 0.00015, params: {'classifier__max_features': 2, 'classifier__n_estimators': 280}, mean: -0.00019, std: 0.00015, params: {'classifier__max_features': 2, 'classifier__n_estimators': 290}, mean: -0.00019, std: 0.00015, params: {'classifier__max_features': 2, 'classifier__n_estimators': 300}, mean: -0.00021, std: 0.00016, params: {'classifier__max_features': 3, 'classifier__n_estimators': 10}, mean: -0.00020, std: 0.00015, params: {'classifier__max_features': 3, 'classifier__n_estimators': 20}, mean: -0.00020, std: 0.00015, params: {'classifier__max_features': 3, 'classifier__n_estimators': 30}, mean: -0.00019, std: 0.00016, params: {'classifier__max_features': 3, 'classifier__n_estimators': 40}, mean: -0.00020, std: 0.00016, params: {'classifier__max_features': 3, 'classifier__n_estimators': 50}, mean: -0.00019, std: 0.00015, params: {'classifier__max_features': 3, 'classifier__n_estimators': 60}, mean: -0.00019, std: 0.00015, params: {'classifier__max_features': 3, 'classifier__n_estimators': 70}, mean: -0.00019, std: 0.00015, params: {'classifier__max_features': 3, 'classifier__n_estimators': 80}, mean: -0.00019, std: 0.00015, params: {'classifier__max_features': 3, 'classifier__n_estimators': 90}, mean: -0.00019, std: 0.00016, params: {'classifier__max_features': 3, 'classifier__n_estimators': 100}, mean: -0.00019, std: 0.00016, params: {'classifier__max_features': 3, 'classifier__n_estimators': 110}, mean: -0.00019, std: 0.00016, params: {'classifier__max_features': 3, 'classifier__n_estimators': 120}, mean: -0.00019, std: 0.00015, params: {'classifier__max_features': 3, 'classifier__n_estimators': 130}, mean: -0.00019, std: 0.00015, params: {'classifier__max_features': 3, 'classifier__n_estimators': 140}, mean: -0.00019, std: 0.00015, params: {'classifier__max_features': 3, 'classifier__n_estimators': 150}, mean: -0.00019, std: 0.00015, params: {'classifier__max_features': 3, 'classifier__n_estimators': 160}, mean: -0.00019, std: 0.00016, params: {'classifier__max_features': 3, 'classifier__n_estimators': 170}, mean: -0.00019, std: 0.00016, params: {'classifier__max_features': 3, 'classifier__n_estimators': 180}, mean: -0.00019, std: 0.00015, params: {'classifier__max_features': 3, 'classifier__n_estimators': 190}, mean: -0.00019, std: 0.00016, params: {'classifier__max_features': 3, 'classifier__n_estimators': 200}, mean: -0.00019, std: 0.00015, params: {'classifier__max_features': 3, 'classifier__n_estimators': 210}, mean: -0.00019, std: 0.00015, params: {'classifier__max_features': 3, 'classifier__n_estimators': 220}, mean: -0.00019, std: 0.00016, params: {'classifier__max_features': 3, 'classifier__n_estimators': 230}, mean: -0.00019, std: 0.00015, params: {'classifier__max_features': 3, 'classifier__n_estimators': 240}, mean: -0.00019, std: 0.00015, params: {'classifier__max_features': 3, 'classifier__n_estimators': 250}, mean: -0.00019, std: 0.00016, params: {'classifier__max_features': 3, 'classifier__n_estimators': 260}, mean: -0.00019, std: 0.00016, params: {'classifier__max_features': 3, 'classifier__n_estimators': 270}, mean: -0.00019, std: 0.00015, params: {'classifier__max_features': 3, 'classifier__n_estimators': 280}, mean: -0.00019, std: 0.00015, params: {'classifier__max_features': 3, 'classifier__n_estimators': 290}, mean: -0.00019, std: 0.00016, params: {'classifier__max_features': 3, 'classifier__n_estimators': 300}, mean: -0.00021, std: 0.00016, params: {'classifier__max_features': 4, 'classifier__n_estimators': 10}, mean: -0.00021, std: 0.00016, params: {'classifier__max_features': 4, 'classifier__n_estimators': 20}, mean: -0.00020, std: 0.00016, params: {'classifier__max_features': 4, 'classifier__n_estimators': 30}, mean: -0.00020, std: 0.00016, params: {'classifier__max_features': 4, 'classifier__n_estimators': 40}, mean: -0.00020, std: 0.00017, params: {'classifier__max_features': 4, 'classifier__n_estimators': 50}, mean: -0.00020, std: 0.00016, params: {'classifier__max_features': 4, 'classifier__n_estimators': 60}, mean: -0.00019, std: 0.00015, params: {'classifier__max_features': 4, 'classifier__n_estimators': 70}, mean: -0.00020, std: 0.00016, params: {'classifier__max_features': 4, 'classifier__n_estimators': 80}, mean: -0.00020, std: 0.00015, params: {'classifier__max_features': 4, 'classifier__n_estimators': 90}, mean: -0.00020, std: 0.00016, params: {'classifier__max_features': 4, 'classifier__n_estimators': 100}, mean: -0.00020, std: 0.00016, params: {'classifier__max_features': 4, 'classifier__n_estimators': 110}, mean: -0.00019, std: 0.00016, params: {'classifier__max_features': 4, 'classifier__n_estimators': 120}, mean: -0.00020, std: 0.00016, params: {'classifier__max_features': 4, 'classifier__n_estimators': 130}, mean: -0.00019, std: 0.00016, params: {'classifier__max_features': 4, 'classifier__n_estimators': 140}, mean: -0.00020, std: 0.00016, params: {'classifier__max_features': 4, 'classifier__n_estimators': 150}, mean: -0.00020, std: 0.00016, params: {'classifier__max_features': 4, 'classifier__n_estimators': 160}, mean: -0.00020, std: 0.00016, params: {'classifier__max_features': 4, 'classifier__n_estimators': 170}, mean: -0.00020, std: 0.00016, params: {'classifier__max_features': 4, 'classifier__n_estimators': 180}, mean: -0.00020, std: 0.00016, params: {'classifier__max_features': 4, 'classifier__n_estimators': 190}, mean: -0.00019, std: 0.00016, params: {'classifier__max_features': 4, 'classifier__n_estimators': 200}, mean: -0.00020, std: 0.00016, params: {'classifier__max_features': 4, 'classifier__n_estimators': 210}, mean: -0.00020, std: 0.00016, params: {'classifier__max_features': 4, 'classifier__n_estimators': 220}, mean: -0.00019, std: 0.00016, params: {'classifier__max_features': 4, 'classifier__n_estimators': 230}, mean: -0.00020, std: 0.00016, params: {'classifier__max_features': 4, 'classifier__n_estimators': 240}, mean: -0.00020, std: 0.00016, params: {'classifier__max_features': 4, 'classifier__n_estimators': 250}, mean: -0.00020, std: 0.00016, params: {'classifier__max_features': 4, 'classifier__n_estimators': 260}, mean: -0.00020, std: 0.00016, params: {'classifier__max_features': 4, 'classifier__n_estimators': 270}, mean: -0.00020, std: 0.00016, params: {'classifier__max_features': 4, 'classifier__n_estimators': 280}, mean: -0.00019, std: 0.00016, params: {'classifier__max_features': 4, 'classifier__n_estimators': 290}, mean: -0.00020, std: 0.00016, params: {'classifier__max_features': 4, 'classifier__n_estimators': 300}]\n",
      "-0.000183688583894\n",
      "{'classifier__max_features': 2, 'classifier__n_estimators': 100}\n"
     ]
    }
   ],
   "source": [
    "#view the results\n",
    "print grid_mean_scores\n",
    "print grid.grid_scores_\n",
    "print grid.best_score_\n",
    "print grid.best_params_"
   ]
  },
  {
   "cell_type": "code",
   "execution_count": 564,
   "metadata": {
    "collapsed": false,
    "scrolled": true
   },
   "outputs": [
    {
     "data": {
      "text/plain": [
       "[0.013781963008745972,\n",
       " 0.013740176395723197,\n",
       " 0.013720431779384449,\n",
       " 0.013601090853358156,\n",
       " 0.013642116006880053,\n",
       " 0.013648528979893557,\n",
       " 0.013723017707882793,\n",
       " 0.013652189722188908,\n",
       " 0.013621943318508542,\n",
       " 0.013637325576951085,\n",
       " 0.013580019676376717,\n",
       " 0.01356854753243579,\n",
       " 0.01358202257705163,\n",
       " 0.013593728354553514,\n",
       " 0.013634990862739069,\n",
       " 0.013602210071858205,\n",
       " 0.013623348170600354,\n",
       " 0.013606714554083075,\n",
       " 0.013639064768357842,\n",
       " 0.013608580208045559,\n",
       " 0.013573422392282415,\n",
       " 0.013614605346017066,\n",
       " 0.013583904155036332,\n",
       " 0.013595709076726114,\n",
       " 0.01358501638777687,\n",
       " 0.013601489204946512,\n",
       " 0.013569360579695027,\n",
       " 0.013573424552025133,\n",
       " 0.0135608655323756,\n",
       " 0.01357857892855854,\n",
       " 0.013924021667356516,\n",
       " 0.013922884669812062,\n",
       " 0.013745624870683983,\n",
       " 0.014080503073812584,\n",
       " 0.013770654399061468,\n",
       " 0.013703918981870419,\n",
       " 0.013727307019096219,\n",
       " 0.013654546749912583,\n",
       " 0.013712004031802659,\n",
       " 0.013553176155220573,\n",
       " 0.013674336273478391,\n",
       " 0.013606536784357972,\n",
       " 0.013628480190485803,\n",
       " 0.013622645164639326,\n",
       " 0.013599917336720009,\n",
       " 0.013630150910268375,\n",
       " 0.013618467970695311,\n",
       " 0.013620063263590866,\n",
       " 0.013655913089263873,\n",
       " 0.013681969631673421,\n",
       " 0.013628903006662106,\n",
       " 0.01359653136112475,\n",
       " 0.01360208893253282,\n",
       " 0.013757722294687125,\n",
       " 0.013646707100128429,\n",
       " 0.013652323758806997,\n",
       " 0.013611968191545559,\n",
       " 0.013583751900731586,\n",
       " 0.013631493255540953,\n",
       " 0.013640146095230187,\n",
       " 0.014487669320865751,\n",
       " 0.014092672068351273,\n",
       " 0.013991198066167977,\n",
       " 0.01386291697545693,\n",
       " 0.014283884622246491,\n",
       " 0.013885783918366333,\n",
       " 0.013831924388378363,\n",
       " 0.013828057603510871,\n",
       " 0.013849050624528346,\n",
       " 0.013880068472190006,\n",
       " 0.013863117700601533,\n",
       " 0.013932793084396102,\n",
       " 0.013847394932693134,\n",
       " 0.013883760138394523,\n",
       " 0.01378599028469339,\n",
       " 0.013885961151832913,\n",
       " 0.013866444814081832,\n",
       " 0.013859706455299652,\n",
       " 0.01372343636777066,\n",
       " 0.01382294277682798,\n",
       " 0.013788419502613421,\n",
       " 0.013753554567712595,\n",
       " 0.013791280135521798,\n",
       " 0.013776956480689129,\n",
       " 0.01384003389021821,\n",
       " 0.01386719648461429,\n",
       " 0.013837529817221654,\n",
       " 0.013787589120064798,\n",
       " 0.013818586940969187,\n",
       " 0.013821898682590279,\n",
       " 0.014603402265834517,\n",
       " 0.01446873115956532,\n",
       " 0.014025151085249028,\n",
       " 0.01413279559383118,\n",
       " 0.014270538780311606,\n",
       " 0.014120421474580298,\n",
       " 0.013893189411137707,\n",
       " 0.014032880329839849,\n",
       " 0.01400740971940535,\n",
       " 0.01397836458123625,\n",
       " 0.014122557170998381,\n",
       " 0.013955627627259657,\n",
       " 0.01410025161711004,\n",
       " 0.013895967187680583,\n",
       " 0.014028758544964591,\n",
       " 0.014062740251972032,\n",
       " 0.013993936113897504,\n",
       " 0.014083330954542469,\n",
       " 0.01397432079280865,\n",
       " 0.013929675851878378,\n",
       " 0.013970432028383615,\n",
       " 0.014078270378486243,\n",
       " 0.013903826863536015,\n",
       " 0.013967413632446617,\n",
       " 0.01403620956627996,\n",
       " 0.014121711548947102,\n",
       " 0.014170334962808782,\n",
       " 0.014027921901816488,\n",
       " 0.013905350320712445,\n",
       " 0.013998153926769301]"
      ]
     },
     "execution_count": 564,
     "metadata": {},
     "output_type": "execute_result"
    }
   ],
   "source": [
    "#check the root mean squared error.  This error is too high for trying to predict a number betweet 1.001 and 1.099\n",
    "RMSE = []\n",
    "\n",
    "for i in grid_mean_scores:\n",
    "    RMSE.append(np.mean(np.sqrt(-i)))\n",
    "\n",
    "RMSE"
   ]
  },
  {
   "cell_type": "code",
   "execution_count": 543,
   "metadata": {
    "collapsed": true
   },
   "outputs": [],
   "source": [
    "#Try KNN\n",
    "pipe_num_knn = Pipeline([\n",
    "        ('features', Get_Numeric_Features()),\n",
    "        ('classifier', KNeighborsClassifier())\n",
    "    ])"
   ]
  },
  {
   "cell_type": "code",
   "execution_count": 544,
   "metadata": {
    "collapsed": false
   },
   "outputs": [
    {
     "ename": "TypeError",
     "evalue": "__init__() takes at least 3 arguments (4 given)",
     "output_type": "error",
     "traceback": [
      "\u001b[0;31m\u001b[0m",
      "\u001b[0;31mTypeError\u001b[0mTraceback (most recent call last)",
      "\u001b[0;32m<ipython-input-544-321542a0cfcd>\u001b[0m in \u001b[0;36m<module>\u001b[0;34m()\u001b[0m\n\u001b[1;32m      3\u001b[0m \u001b[0my_train\u001b[0m \u001b[1;33m=\u001b[0m \u001b[0mbeer_train\u001b[0m\u001b[1;33m[\u001b[0m\u001b[1;34m'originalGravity'\u001b[0m\u001b[1;33m]\u001b[0m\u001b[1;33m\u001b[0m\u001b[0m\n\u001b[1;32m      4\u001b[0m \u001b[1;31m#param_grid = {'classifier__n_neighbors':range(1,30)}\u001b[0m\u001b[1;33m\u001b[0m\u001b[1;33m\u001b[0m\u001b[0m\n\u001b[0;32m----> 5\u001b[0;31m \u001b[0mgrid\u001b[0m \u001b[1;33m=\u001b[0m \u001b[0mGridSearchCV\u001b[0m\u001b[1;33m(\u001b[0m\u001b[0mpipe_num_knn\u001b[0m\u001b[1;33m,\u001b[0m \u001b[0mcv\u001b[0m\u001b[1;33m=\u001b[0m\u001b[1;36m5\u001b[0m\u001b[1;33m,\u001b[0m \u001b[0mscoring\u001b[0m\u001b[1;33m=\u001b[0m\u001b[1;34m'mean_squared_error'\u001b[0m\u001b[1;33m)\u001b[0m\u001b[1;33m\u001b[0m\u001b[0m\n\u001b[0m\u001b[1;32m      6\u001b[0m \u001b[0mgrid\u001b[0m\u001b[1;33m.\u001b[0m\u001b[0mfit\u001b[0m\u001b[1;33m(\u001b[0m\u001b[0mX_train\u001b[0m\u001b[1;33m,\u001b[0m\u001b[0my_train\u001b[0m\u001b[1;33m)\u001b[0m\u001b[1;33m\u001b[0m\u001b[0m\n\u001b[1;32m      7\u001b[0m \u001b[1;33m\u001b[0m\u001b[0m\n",
      "\u001b[0;31mTypeError\u001b[0m: __init__() takes at least 3 arguments (4 given)"
     ]
    }
   ],
   "source": [
    "#oops KNN cant take a continuos response I guess.\n",
    "feature_cols = ['ibu', 'abv', 'srmId']\n",
    "X_train = beer_train[feature_cols]\n",
    "y_train = beer_train['originalGravity']\n",
    "param_grid = {'classifier__n_neighbors':range(1,30)}\n",
    "grid = GridSearchCV(pipe_num_knn, param_grid, cv=5, scoring='accuracy')\n",
    "grid.fit(beer_train.drop('styleId', axis=1),beer_train.styleId)\n",
    "\n",
    "grid.grid_scores_\n",
    "grid_mean_scores = [result[1] for result in grid.grid_scores_]"
   ]
  },
  {
   "cell_type": "code",
   "execution_count": 545,
   "metadata": {
    "collapsed": true
   },
   "outputs": [],
   "source": [
    "#lets try a Linear Regression.\n",
    "from sklearn.linear_model import LinearRegression\n",
    "def cross_val_rmse(X, y):\n",
    "    linreg = LinearRegression()\n",
    "    scores = cross_val_score(linreg, X, y, cv=5, scoring='mean_squared_error')\n",
    "    return np.sqrt(abs(scores)).mean()"
   ]
  },
  {
   "cell_type": "code",
   "execution_count": 547,
   "metadata": {
    "collapsed": false
   },
   "outputs": [
    {
     "data": {
      "text/plain": [
       "0.014730779612579176"
      ]
     },
     "execution_count": 547,
     "metadata": {},
     "output_type": "execute_result"
    }
   ],
   "source": [
    "#even higher RMSE.\n",
    "feature_cols = ['ibu', 'abv', 'srmId', 'styleId']\n",
    "X_train = beer_train[feature_cols]\n",
    "y_train = beer_train['originalGravity']\n",
    "cross_val_rmse(X_train, y_train)"
   ]
  },
  {
   "cell_type": "code",
   "execution_count": 550,
   "metadata": {
    "collapsed": false
   },
   "outputs": [
    {
     "data": {
      "text/html": [
       "<div>\n",
       "<table border=\"1\" class=\"dataframe\">\n",
       "  <thead>\n",
       "    <tr style=\"text-align: right;\">\n",
       "      <th></th>\n",
       "      <th>ibu</th>\n",
       "      <th>abv</th>\n",
       "      <th>originalGravity</th>\n",
       "      <th>styleId</th>\n",
       "      <th>srmId</th>\n",
       "    </tr>\n",
       "  </thead>\n",
       "  <tbody>\n",
       "    <tr>\n",
       "      <th>ibu</th>\n",
       "      <td>1.000000</td>\n",
       "      <td>0.480048</td>\n",
       "      <td>0.398412</td>\n",
       "      <td>-0.331372</td>\n",
       "      <td>0.017132</td>\n",
       "    </tr>\n",
       "    <tr>\n",
       "      <th>abv</th>\n",
       "      <td>0.480048</td>\n",
       "      <td>1.000000</td>\n",
       "      <td>0.530045</td>\n",
       "      <td>-0.099007</td>\n",
       "      <td>0.227386</td>\n",
       "    </tr>\n",
       "    <tr>\n",
       "      <th>originalGravity</th>\n",
       "      <td>0.398412</td>\n",
       "      <td>0.530045</td>\n",
       "      <td>1.000000</td>\n",
       "      <td>-0.185384</td>\n",
       "      <td>0.086400</td>\n",
       "    </tr>\n",
       "    <tr>\n",
       "      <th>styleId</th>\n",
       "      <td>-0.331372</td>\n",
       "      <td>-0.099007</td>\n",
       "      <td>-0.185384</td>\n",
       "      <td>1.000000</td>\n",
       "      <td>0.023103</td>\n",
       "    </tr>\n",
       "    <tr>\n",
       "      <th>srmId</th>\n",
       "      <td>0.017132</td>\n",
       "      <td>0.227386</td>\n",
       "      <td>0.086400</td>\n",
       "      <td>0.023103</td>\n",
       "      <td>1.000000</td>\n",
       "    </tr>\n",
       "  </tbody>\n",
       "</table>\n",
       "</div>"
      ],
      "text/plain": [
       "                      ibu       abv  originalGravity   styleId     srmId\n",
       "ibu              1.000000  0.480048         0.398412 -0.331372  0.017132\n",
       "abv              0.480048  1.000000         0.530045 -0.099007  0.227386\n",
       "originalGravity  0.398412  0.530045         1.000000 -0.185384  0.086400\n",
       "styleId         -0.331372 -0.099007        -0.185384  1.000000  0.023103\n",
       "srmId            0.017132  0.227386         0.086400  0.023103  1.000000"
      ]
     },
     "execution_count": 550,
     "metadata": {},
     "output_type": "execute_result"
    }
   ],
   "source": [
    "#check the correlation between the feature columns. probably should have done this earlier.\n",
    "beer_train[['ibu','abv', 'originalGravity', 'styleId', 'srmId']].corr()"
   ]
  },
  {
   "cell_type": "code",
   "execution_count": 553,
   "metadata": {
    "collapsed": false
   },
   "outputs": [
    {
     "data": {
      "text/plain": [
       "<matplotlib.axes._subplots.AxesSubplot at 0x1a217eb8>"
      ]
     },
     "execution_count": 553,
     "metadata": {},
     "output_type": "execute_result"
    },
    {
     "data": {
      "image/png": "[encoded data removed]",
      "text/plain": [
       "<matplotlib.figure.Figure at 0x1a209d30>"
      ]
     },
     "metadata": {},
     "output_type": "display_data"
    }
   ],
   "source": [
    "#more EDA that should have been done earlier.\n",
    "sns.heatmap(beer_train[['ibu','abv', 'originalGravity', 'styleId', 'srmId']].corr())"
   ]
  },
  {
   "cell_type": "code",
   "execution_count": 555,
   "metadata": {
    "collapsed": false
   },
   "outputs": [
    {
     "data": {
      "text/plain": [
       "<seaborn.axisgrid.PairGrid at 0x128d9be0>"
      ]
     },
     "execution_count": 555,
     "metadata": {},
     "output_type": "execute_result"
    },
    {
     "data": {
      "image/png": "[encoded data removed]",
      "text/plain": [
       "<matplotlib.figure.Figure at 0x128d9c18>"
      ]
     },
     "metadata": {},
     "output_type": "display_data"
    }
   ],
   "source": [
    "sns.pairplot(beer_train, x_vars=['ibu','abv', 'styleId', 'srmId'], y_vars= 'originalGravity', size=6, aspect=0.7)"
   ]
  },
  {
   "cell_type": "code",
   "execution_count": null,
   "metadata": {
    "collapsed": true
   },
   "outputs": [],
   "source": []
  }
 ],
 "metadata": {
  "anaconda-cloud": {},
  "kernelspec": {
   "display_name": "Python [conda env:data28]",
   "language": "python",
   "name": "conda-env-data28-py"
  },
  "language_info": {
   "codemirror_mode": {
    "name": "ipython",
    "version": 2
   },
   "file_extension": ".py",
   "mimetype": "text/x-python",
   "name": "python",
   "nbconvert_exporter": "python",
   "pygments_lexer": "ipython2",
   "version": "2.7.12"
  }
 },
 "nbformat": 4,
 "nbformat_minor": 1
}

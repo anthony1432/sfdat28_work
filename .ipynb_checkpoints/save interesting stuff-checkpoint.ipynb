{
 "cells": [
  {
   "cell_type": "code",
   "execution_count": null,
   "metadata": {
    "collapsed": true
   },
   "outputs": [],
   "source": [
    "class VectorizerTransformer(TransformerMixin):\n",
    "    def transform(self, X, **transform_params): \n",
    "        \n",
    "        count_desc = pd.DataFrame(self.vect.transform(X).toarray(), columns=self.vect.get_feature_names())\n",
    "        tfidf_desc = pd.DataFrame(self.tfidf.transform(X).toarray(), columns=self.tfidf.get_feature_names())\n",
    "        return pd.concat([count_desc, tfidf_desc], axis=1)\n",
    "\n",
    "    def fit(self, X, y=None, **fit_params):\n",
    "        self.vect = CountVectorizer()\n",
    "        self.tfidf = TfidfVectorizer()\n",
    "        self.vect.fit(X)\n",
    "        self.tfidf.fit(X)\n",
    "        return self"
   ]
  }
 ],
 "metadata": {
  "kernelspec": {
   "display_name": "Python [data28]",
   "language": "python",
   "name": "Python [data28]"
  },
  "language_info": {
   "codemirror_mode": {
    "name": "ipython",
    "version": 2
   },
   "file_extension": ".py",
   "mimetype": "text/x-python",
   "name": "python",
   "nbconvert_exporter": "python",
   "pygments_lexer": "ipython2",
   "version": "2.7.12"
  }
 },
 "nbformat": 4,
 "nbformat_minor": 0
}

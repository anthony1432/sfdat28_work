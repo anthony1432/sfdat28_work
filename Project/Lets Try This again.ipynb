{
 "cells": [
  {
   "cell_type": "code",
   "execution_count": 1,
   "metadata": {
    "collapsed": true
   },
   "outputs": [],
   "source": [
    "import requests\n",
    "import re\n",
    "import json\n",
    "from bs4 import BeautifulSoup\n",
    "import pandas as pd\n",
    "import numpy as np\n",
    "from pandas.io.json import json_normalize\n",
    "import seaborn as sns\n",
    "import matplotlib.pyplot as plt\n",
    "%matplotlib inline"
   ]
  },
  {
   "cell_type": "code",
   "execution_count": 2,
   "metadata": {
    "collapsed": true
   },
   "outputs": [],
   "source": [
    "import nltk\n",
    "from sklearn.cross_validation import train_test_split, cross_val_score\n",
    "from sklearn.feature_extraction.text import CountVectorizer, TfidfVectorizer\n",
    "from sklearn.linear_model import LogisticRegression, LinearRegression\n",
    "from sklearn.neighbors import KNeighborsClassifier\n",
    "from sklearn.preprocessing import StandardScaler\n",
    "from sklearn import metrics\n",
    "from textblob import TextBlob, Word\n",
    "from nltk.stem.snowball import SnowballStemmer\n",
    "from sklearn.grid_search import GridSearchCV\n",
    "from sklearn.pipeline import Pipeline, FeatureUnion, make_pipeline, make_union\n",
    "from sklearn.base import TransformerMixin, BaseEstimator\n",
    "from sklearn.ensemble import RandomForestClassifier, RandomForestRegressor, BaggingRegressor\n",
    "from sklearn.tree import DecisionTreeRegressor\n"
   ]
  },
  {
   "cell_type": "code",
   "execution_count": 3,
   "metadata": {
    "collapsed": false
   },
   "outputs": [],
   "source": [
    "beer_train = pd.read_csv('beer_11_20.csv')"
   ]
  },
  {
   "cell_type": "code",
   "execution_count": 4,
   "metadata": {
    "collapsed": false
   },
   "outputs": [
    {
     "data": {
      "text/plain": [
       "Unnamed: 0              0\n",
       "Unnamed: 0.1            0\n",
       "Unnamed: 0.1            0\n",
       "id                      0\n",
       "name                    0\n",
       "abv                    17\n",
       "ibu                     0\n",
       "originalGravity        16\n",
       "isOrganic               0\n",
       "categoryId              0\n",
       "styleId                 0\n",
       "style_name              0\n",
       "style_description       0\n",
       "beer_description     2859\n",
       "srmId                  16\n",
       "duplicate               0\n",
       "dtype: int64"
      ]
     },
     "execution_count": 4,
     "metadata": {},
     "output_type": "execute_result"
    }
   ],
   "source": [
    "beer_train.isnull().sum()"
   ]
  },
  {
   "cell_type": "code",
   "execution_count": 5,
   "metadata": {
    "collapsed": true
   },
   "outputs": [],
   "source": [
    "beer_train2 = beer_train.dropna(subset = ['abv','originalGravity','srmId'])"
   ]
  },
  {
   "cell_type": "code",
   "execution_count": 6,
   "metadata": {
    "collapsed": false
   },
   "outputs": [
    {
     "data": {
      "text/plain": [
       "Unnamed: 0              0\n",
       "Unnamed: 0.1            0\n",
       "Unnamed: 0.1            0\n",
       "id                      0\n",
       "name                    0\n",
       "abv                    17\n",
       "ibu                     0\n",
       "originalGravity        16\n",
       "isOrganic               0\n",
       "categoryId              0\n",
       "styleId                 0\n",
       "style_name              0\n",
       "style_description       0\n",
       "beer_description     2859\n",
       "srmId                  16\n",
       "duplicate               0\n",
       "dtype: int64"
      ]
     },
     "execution_count": 6,
     "metadata": {},
     "output_type": "execute_result"
    }
   ],
   "source": [
    "beer_train.isnull().sum()"
   ]
  },
  {
   "cell_type": "code",
   "execution_count": 7,
   "metadata": {
    "collapsed": false
   },
   "outputs": [
    {
     "name": "stderr",
     "output_type": "stream",
     "text": [
      "C:\\Users\\antho\\Anaconda2\\envs\\data28\\lib\\site-packages\\IPython\\core\\interactiveshell.py:2717: DtypeWarning: Columns (189,198,200,212,214,215,217,218,220,221,223,224,226,227,236,242,244,245,254,260,262,263,265,266,268,269,271,275,284,290,292,293,295,296,298,299,301,310,312,313,315,316,318,319,321,322,324,325,327,336,338,347,349,350,352,353,355,356,358,359,361,362,364,365,374,380,382,383,392,398,407,413,422,428,437,443,452,458,460,461,463,464,466,467,469,470,472,473,475) have mixed types. Specify dtype option on import or set low_memory=False.\n",
      "  interactivity=interactivity, compiler=compiler, result=result)\n"
     ]
    }
   ],
   "source": [
    "beer = pd.read_csv('beers_full2.csv')"
   ]
  },
  {
   "cell_type": "code",
   "execution_count": 8,
   "metadata": {
    "collapsed": false
   },
   "outputs": [
    {
     "data": {
      "text/plain": [
       "(59050, 476)"
      ]
     },
     "execution_count": 8,
     "metadata": {},
     "output_type": "execute_result"
    }
   ],
   "source": [
    "beer.shape"
   ]
  },
  {
   "cell_type": "code",
   "execution_count": 9,
   "metadata": {
    "collapsed": false
   },
   "outputs": [
    {
     "data": {
      "text/plain": [
       "Unnamed: 0                       0\n",
       "Unnamed: 0.1                     0\n",
       "id                               0\n",
       "name                             0\n",
       "abv                          11010\n",
       "ibu                          38270\n",
       "originalGravity              54366\n",
       "ogMin                         7278\n",
       "isOrganic                        1\n",
       "categoryId                    2684\n",
       "category_name                 2684\n",
       "styleId                       2684\n",
       "style_name                    2684\n",
       "style_description             2868\n",
       "servingTemperatureDisplay    55576\n",
       "foodPairings                 55945\n",
       "description                  23632\n",
       "labels                       37299\n",
       "glasswareId                  43274\n",
       "glass_name                   43274\n",
       "srmId                        53147\n",
       "srm_hex                      53147\n",
       "srmMin                        8215\n",
       "srmMax                        8260\n",
       "brewery_id                      29\n",
       "brewery_name                    29\n",
       "brewery_description          10961\n",
       "brewery_established          13687\n",
       "brewery_locality              1752\n",
       "loc_country_code                81\n",
       "                             ...  \n",
       "hop12_betaAcidMax            59048\n",
       "hop12_betaAcidMin            59048\n",
       "hop12_caryophylleneMax       59048\n",
       "hop12_caryophylleneMin       59048\n",
       "hop12_cohumuloneMax          59048\n",
       "hop12_cohumuloneMin          59048\n",
       "hop12_description            59048\n",
       "hop12_farneseneMax           59048\n",
       "hop12_humuleneMax            59048\n",
       "hop12_humuleneMin            59048\n",
       "hop12_myrceneMax             59048\n",
       "hop12_myrceneMin             59048\n",
       "malt7_char1_name             59047\n",
       "malt7_char1_id               59047\n",
       "malt7_char1_description      59047\n",
       "malt7_char2_name             59048\n",
       "malt7_char2_id               59048\n",
       "malt7_char2_description      59048\n",
       "malt7_char3_name             59049\n",
       "malt7_char3_id               59049\n",
       "malt7_char3_description      59049\n",
       "malt8_char1_name             59049\n",
       "malt8_char1_id               59049\n",
       "malt8_char1_description      59049\n",
       "malt8_char2_name             59049\n",
       "malt8_char2_id               59049\n",
       "malt8_char2_description      59049\n",
       "malt8_char3_name             59049\n",
       "malt8_char3_id               59049\n",
       "malt8_char3_description      59049\n",
       "dtype: int64"
      ]
     },
     "execution_count": 9,
     "metadata": {},
     "output_type": "execute_result"
    }
   ],
   "source": [
    "beer.isnull().sum()"
   ]
  },
  {
   "cell_type": "code",
   "execution_count": 10,
   "metadata": {
    "collapsed": false
   },
   "outputs": [],
   "source": [
    "\n",
    "beer['beer_description'] = beer['description']"
   ]
  },
  {
   "cell_type": "code",
   "execution_count": 11,
   "metadata": {
    "collapsed": false
   },
   "outputs": [],
   "source": [
    "beers = pd.merge(beer, beer_train, how='outer', on = 'id')"
   ]
  },
  {
   "cell_type": "code",
   "execution_count": null,
   "metadata": {
    "collapsed": false
   },
   "outputs": [],
   "source": []
  },
  {
   "cell_type": "code",
   "execution_count": 12,
   "metadata": {
    "collapsed": false
   },
   "outputs": [
    {
     "data": {
      "text/html": [
       "<div>\n",
       "<table border=\"1\" class=\"dataframe\">\n",
       "  <thead>\n",
       "    <tr style=\"text-align: right;\">\n",
       "      <th></th>\n",
       "      <th>Unnamed: 0_x</th>\n",
       "      <th>Unnamed: 0.1_x</th>\n",
       "      <th>id</th>\n",
       "      <th>name_x</th>\n",
       "      <th>abv_x</th>\n",
       "      <th>ibu_x</th>\n",
       "      <th>originalGravity_x</th>\n",
       "      <th>ogMin</th>\n",
       "      <th>isOrganic_x</th>\n",
       "      <th>categoryId_x</th>\n",
       "      <th>...</th>\n",
       "      <th>ibu_y</th>\n",
       "      <th>originalGravity_y</th>\n",
       "      <th>isOrganic_y</th>\n",
       "      <th>categoryId_y</th>\n",
       "      <th>styleId_y</th>\n",
       "      <th>style_name_y</th>\n",
       "      <th>style_description_y</th>\n",
       "      <th>beer_description_y</th>\n",
       "      <th>srmId_y</th>\n",
       "      <th>duplicate</th>\n",
       "    </tr>\n",
       "  </thead>\n",
       "  <tbody>\n",
       "    <tr>\n",
       "      <th>0</th>\n",
       "      <td>0.0</td>\n",
       "      <td>0.0</td>\n",
       "      <td>cBLTUw</td>\n",
       "      <td>\"18\" Imperial IPA 2</td>\n",
       "      <td>11.10</td>\n",
       "      <td>NaN</td>\n",
       "      <td>NaN</td>\n",
       "      <td>1.080</td>\n",
       "      <td>N</td>\n",
       "      <td>3.0</td>\n",
       "      <td>...</td>\n",
       "      <td>NaN</td>\n",
       "      <td>NaN</td>\n",
       "      <td>NaN</td>\n",
       "      <td>NaN</td>\n",
       "      <td>NaN</td>\n",
       "      <td>NaN</td>\n",
       "      <td>NaN</td>\n",
       "      <td>NaN</td>\n",
       "      <td>NaN</td>\n",
       "      <td>NaN</td>\n",
       "    </tr>\n",
       "    <tr>\n",
       "      <th>1</th>\n",
       "      <td>1.0</td>\n",
       "      <td>1.0</td>\n",
       "      <td>ZsQEJt</td>\n",
       "      <td>\"633\" American Pale Ale</td>\n",
       "      <td>6.33</td>\n",
       "      <td>25.0</td>\n",
       "      <td>NaN</td>\n",
       "      <td>1.044</td>\n",
       "      <td>N</td>\n",
       "      <td>3.0</td>\n",
       "      <td>...</td>\n",
       "      <td>25.0</td>\n",
       "      <td>1.044773</td>\n",
       "      <td>N</td>\n",
       "      <td>3.0</td>\n",
       "      <td>25.0</td>\n",
       "      <td>American-Style Pale Ale</td>\n",
       "      <td>American pale ales range from deep golden to c...</td>\n",
       "      <td>Our first beer has been aptly named \"633\" afte...</td>\n",
       "      <td>9.991054</td>\n",
       "      <td>False</td>\n",
       "    </tr>\n",
       "    <tr>\n",
       "      <th>2</th>\n",
       "      <td>2.0</td>\n",
       "      <td>2.0</td>\n",
       "      <td>tmEthz</td>\n",
       "      <td>\"Admiral\" Stache</td>\n",
       "      <td>7.00</td>\n",
       "      <td>23.0</td>\n",
       "      <td>1.071</td>\n",
       "      <td>1.072</td>\n",
       "      <td>N</td>\n",
       "      <td>9.0</td>\n",
       "      <td>...</td>\n",
       "      <td>23.0</td>\n",
       "      <td>1.071000</td>\n",
       "      <td>N</td>\n",
       "      <td>9.0</td>\n",
       "      <td>104.0</td>\n",
       "      <td>Baltic-Style Porter</td>\n",
       "      <td>A true smooth cold-fermented and cold lagered ...</td>\n",
       "      <td>Milwaukee Brewing Co’s take on a classic Europ...</td>\n",
       "      <td>37.000000</td>\n",
       "      <td>True</td>\n",
       "    </tr>\n",
       "  </tbody>\n",
       "</table>\n",
       "<p>3 rows × 492 columns</p>\n",
       "</div>"
      ],
      "text/plain": [
       "   Unnamed: 0_x  Unnamed: 0.1_x      id                   name_x  abv_x  \\\n",
       "0           0.0             0.0  cBLTUw      \"18\" Imperial IPA 2  11.10   \n",
       "1           1.0             1.0  ZsQEJt  \"633\" American Pale Ale   6.33   \n",
       "2           2.0             2.0  tmEthz         \"Admiral\" Stache   7.00   \n",
       "\n",
       "   ibu_x  originalGravity_x  ogMin isOrganic_x  categoryId_x    ...    ibu_y  \\\n",
       "0    NaN                NaN  1.080           N           3.0    ...      NaN   \n",
       "1   25.0                NaN  1.044           N           3.0    ...     25.0   \n",
       "2   23.0              1.071  1.072           N           9.0    ...     23.0   \n",
       "\n",
       "   originalGravity_y isOrganic_y categoryId_y styleId_y  \\\n",
       "0                NaN         NaN          NaN       NaN   \n",
       "1           1.044773           N          3.0      25.0   \n",
       "2           1.071000           N          9.0     104.0   \n",
       "\n",
       "              style_name_y                                style_description_y  \\\n",
       "0                      NaN                                                NaN   \n",
       "1  American-Style Pale Ale  American pale ales range from deep golden to c...   \n",
       "2      Baltic-Style Porter  A true smooth cold-fermented and cold lagered ...   \n",
       "\n",
       "                                  beer_description_y    srmId_y duplicate  \n",
       "0                                                NaN        NaN       NaN  \n",
       "1  Our first beer has been aptly named \"633\" afte...   9.991054     False  \n",
       "2  Milwaukee Brewing Co’s take on a classic Europ...  37.000000      True  \n",
       "\n",
       "[3 rows x 492 columns]"
      ]
     },
     "execution_count": 12,
     "metadata": {},
     "output_type": "execute_result"
    }
   ],
   "source": [
    "beers.head(3)\n"
   ]
  },
  {
   "cell_type": "code",
   "execution_count": null,
   "metadata": {
    "collapsed": false,
    "scrolled": true
   },
   "outputs": [
    {
     "name": "stdout",
     "output_type": "stream",
     "text": [
      "Int64Index([10000], dtype='int64')\n",
      "Int64Index([10001], dtype='int64')\n",
      "Int64Index([10002], dtype='int64')\n",
      "Int64Index([10003], dtype='int64')\n",
      "Int64Index([10004], dtype='int64')\n",
      "Int64Index([10005], dtype='int64')\n",
      "Int64Index([10006], dtype='int64')\n",
      "Int64Index([10007], dtype='int64')\n",
      "Int64Index([10008], dtype='int64')\n",
      "Int64Index([10009], dtype='int64')\n",
      "Int64Index([10010], dtype='int64')\n",
      "Int64Index([10011], dtype='int64')\n",
      "Int64Index([10012], dtype='int64')\n",
      "Int64Index([10013], dtype='int64')\n",
      "Int64Index([10014], dtype='int64')\n",
      "Int64Index([10015], dtype='int64')\n",
      "Int64Index([10016], dtype='int64')\n",
      "Int64Index([10017], dtype='int64')\n",
      "Int64Index([10018], dtype='int64')\n",
      "Int64Index([10019], dtype='int64')\n",
      "Int64Index([10020], dtype='int64')\n",
      "Int64Index([10021], dtype='int64')\n",
      "Int64Index([10022], dtype='int64')\n",
      "Int64Index([10023], dtype='int64')\n",
      "Int64Index([10024], dtype='int64')\n",
      "Int64Index([10025], dtype='int64')\n",
      "Int64Index([10026], dtype='int64')\n",
      "Int64Index([10027], dtype='int64')\n",
      "Int64Index([10028], dtype='int64')\n",
      "Int64Index([10029], dtype='int64')\n",
      "Int64Index([10030], dtype='int64')\n",
      "Int64Index([10031], dtype='int64')\n",
      "Int64Index([10032], dtype='int64')\n",
      "Int64Index([10033], dtype='int64')\n",
      "Int64Index([10034], dtype='int64')\n",
      "Int64Index([10035], dtype='int64')\n",
      "Int64Index([10036], dtype='int64')\n",
      "Int64Index([10037], dtype='int64')\n",
      "Int64Index([10038], dtype='int64')\n",
      "Int64Index([10039], dtype='int64')\n",
      "Int64Index([10040], dtype='int64')\n",
      "Int64Index([10041], dtype='int64')\n",
      "Int64Index([10042], dtype='int64')\n",
      "Int64Index([10043], dtype='int64')\n",
      "Int64Index([10044], dtype='int64')\n",
      "Int64Index([10045], dtype='int64')\n",
      "Int64Index([10046], dtype='int64')\n",
      "Int64Index([10047], dtype='int64')\n",
      "Int64Index([10048], dtype='int64')\n",
      "Int64Index([10049], dtype='int64')\n",
      "Int64Index([10050], dtype='int64')\n",
      "Int64Index([10051], dtype='int64')\n"
     ]
    }
   ],
   "source": [
    "for index, row in beers[10000:11000].iterrows():\n",
    "    print beers[beers['id'] == row['id']].index\n",
    "    if not row['originalGravity_x'] > 0 and row['originalGravity_y'] > 0:\n",
    "        beers.loc[index, 'originalGravity_x'] = beers.loc[index, 'originalGravity_y']\n",
    "    if not row['abv_x'] > 0 and row['abv_y'] > 0:\n",
    "        beers.loc[index, 'abv_x'] = beers.loc[index, 'abv_y']\n",
    "    if not row['styleId_x'] > 0 and row['styleId_y'] > 0:\n",
    "        beers.loc[index, 'styleId_x'] = beers.loc[index, 'styleId_y']\n",
    "    if not row['style_name_x'] > 0 and row['style_name_y'] > 0:\n",
    "        beers.loc[index, 'style_name_x'] = beers.loc[index, 'style_name_y']\n",
    "    if not row['beer_description_x'] > 0 and row['beer_description_y'] > 0:\n",
    "        beers.loc[index, 'beer_description_x'] = beers.loc[index, 'beer_description_y']\n",
    "    if not row['styleId_x'] > 0 and row['srmId_y'] > 0:\n",
    "        beers.loc[index, 'srmId_x'] = beers.loc[index, 'srmId_y']\n",
    "\n",
    "        "
   ]
  },
  {
   "cell_type": "code",
   "execution_count": null,
   "metadata": {
    "collapsed": false
   },
   "outputs": [],
   "source": [
    "beers.to_csv('beers_full2.csv', encoding = 'utf-8')\n",
    "        "
   ]
  },
  {
   "cell_type": "code",
   "execution_count": 26,
   "metadata": {
    "collapsed": false
   },
   "outputs": [
    {
     "data": {
      "text/plain": [
       "Unnamed: 0_x                    33\n",
       "Unnamed: 0.1_x                  33\n",
       "id                               0\n",
       "name_x                          33\n",
       "abv_x                        11010\n",
       "ibu_x                        38303\n",
       "originalGravity_x            51724\n",
       "ogMin                         7311\n",
       "isOrganic_x                     34\n",
       "categoryId_x                  2717\n",
       "category_name                 2717\n",
       "styleId_x                     2707\n",
       "style_name_x                  2707\n",
       "style_description_x           2901\n",
       "servingTemperatureDisplay    55609\n",
       "foodPairings                 55978\n",
       "description                  23665\n",
       "labels                       37332\n",
       "glasswareId                  43307\n",
       "glass_name                   43307\n",
       "srmId_x                      53171\n",
       "srm_hex                      53180\n",
       "srmMin                        8248\n",
       "srmMax                        8293\n",
       "brewery_id                      62\n",
       "brewery_name                    62\n",
       "brewery_description          10994\n",
       "brewery_established          13720\n",
       "brewery_locality              1785\n",
       "loc_country_code               114\n",
       "                             ...  \n",
       "malt7_char2_id               59081\n",
       "malt7_char2_description      59081\n",
       "malt7_char3_name             59082\n",
       "malt7_char3_id               59082\n",
       "malt7_char3_description      59082\n",
       "malt8_char1_name             59082\n",
       "malt8_char1_id               59082\n",
       "malt8_char1_description      59082\n",
       "malt8_char2_name             59082\n",
       "malt8_char2_id               59082\n",
       "malt8_char2_description      59082\n",
       "malt8_char3_name             59082\n",
       "malt8_char3_id               59082\n",
       "malt8_char3_description      59082\n",
       "beer_description_x           23533\n",
       "Unnamed: 0_y                 39530\n",
       "Unnamed: 0.1_y               39530\n",
       "Unnamed: 0.1_y               39530\n",
       "name_y                       39530\n",
       "abv_y                        39547\n",
       "ibu_y                        39530\n",
       "originalGravity_y            39546\n",
       "isOrganic_y                  39530\n",
       "categoryId_y                 39530\n",
       "styleId_y                    39530\n",
       "style_name_y                 39530\n",
       "style_description_y          39530\n",
       "beer_description_y           42389\n",
       "srmId_y                      39546\n",
       "duplicate                    39530\n",
       "dtype: int64"
      ]
     },
     "execution_count": 26,
     "metadata": {},
     "output_type": "execute_result"
    }
   ],
   "source": [
    "beers.isnull().sum()"
   ]
  },
  {
   "cell_type": "code",
   "execution_count": null,
   "metadata": {
    "collapsed": false
   },
   "outputs": [],
   "source": []
  },
  {
   "cell_type": "markdown",
   "metadata": {},
   "source": [
    "### "
   ]
  },
  {
   "cell_type": "code",
   "execution_count": null,
   "metadata": {
    "collapsed": true
   },
   "outputs": [],
   "source": [
    "#fit prediction model to fill in srmID\n",
    "feature_cols = ['ibu','abv','styleId']\n",
    "X_train = beer_train[feature_cols]\n",
    "y_train = beer_train['srmId']\n",
    "treereg = DecisionTreeRegressor(max_features = 3)\n",
    "bagreg = BaggingRegressor(treereg, n_estimators = 490, bootstrap=True, oob_score=True,)\n",
    "bagreg.fit(X_train,y_train)"
   ]
  },
  {
   "cell_type": "code",
   "execution_count": null,
   "metadata": {
    "collapsed": true
   },
   "outputs": [],
   "source": [
    "#fill in missing SRM ID \n",
    "done = 0\n",
    "for index, row in beer.iterrows():\n",
    "    if row['srmMax'] - row['srmMin'] > 5 and row['abv'] > 0:\n",
    "        beer.loc[index, 'srmId'] = bagreg.predict(np.array(row[feature_cols]).astype(float))[0]\n",
    "    if not row['srmId'] > 0 and row['abv'] > 0:\n",
    "        beer.loc[index, 'srmId'] = bagreg.predict(np.array(row[feature_cols]).astype(float))[0]\n",
    "        done += 1\n",
    "        if done % 20 == 0:\n",
    "            print done"
   ]
  },
  {
   "cell_type": "code",
   "execution_count": null,
   "metadata": {
    "collapsed": true
   },
   "outputs": [],
   "source": [
    "#fit prediction model to fill in OG\n",
    "feature_cols = ['ibu','abv','styleId','srmId']\n",
    "X_train = beer_train[feature_cols]\n",
    "y_train = beer_train['originalGravity']\n",
    "randreg = RandomForestRegressor(max_features = 1, n_estimators = 220)\n",
    "randreg.fit(X_train,y_train)"
   ]
  },
  {
   "cell_type": "code",
   "execution_count": null,
   "metadata": {
    "collapsed": true
   },
   "outputs": [],
   "source": [
    "#fill in missing OG\n",
    "done = 0\n",
    "for index, row in beer.iterrows():\n",
    "    if row['originalGravity'] == row['ogMin'] and row['abv'] > 0 and row['srmId'] >0:\n",
    "        beer.loc[index, 'originalGravity'] = randreg.predict(np.array(row[feature_cols]).astype(float))[0]\n",
    "    if not row['originalGravity'] > 0 and row['abv'] > 0:\n",
    "        beer.loc[index, 'originalGravity'] = randreg.predict(np.array(row[feature_cols]).astype(float))[0]\n",
    "        done += 1\n",
    "        if done % 20 == 0:\n",
    "            print done"
   ]
  },
  {
   "cell_type": "code",
   "execution_count": null,
   "metadata": {
    "collapsed": true
   },
   "outputs": [],
   "source": [
    "#fit prediction model to fill in ABV\n",
    "feature_cols = ['ibu', 'srmId','styleId', 'originalGravity']\n",
    "X_train = beer_train[feature_cols]\n",
    "y_train = beer_train['abv']\n",
    "randreg = RandomForestRegressor(max_features = 2, n_estimators = 400)\n",
    "randreg.fit(X_train,y_train)"
   ]
  },
  {
   "cell_type": "code",
   "execution_count": null,
   "metadata": {
    "collapsed": true
   },
   "outputs": [],
   "source": [
    "#fill in missing ABV\n",
    "done = 0\n",
    "for index, row in beer.iterrows():\n",
    "        if not row['abv'] > 0 and row['srmId'] > 0 and row['originalGravity'] > 0:\n",
    "            beer.loc[index, 'abv'] = randreg.predict(np.array(row[feature_cols]).astype(float))[0]\n",
    "            done += 1\n",
    "        if done % 20 == 0:\n",
    "            print done"
   ]
  }
 ],
 "metadata": {
  "anaconda-cloud": {},
  "kernelspec": {
   "display_name": "Python [conda env:data28]",
   "language": "python",
   "name": "conda-env-data28-py"
  },
  "language_info": {
   "codemirror_mode": {
    "name": "ipython",
    "version": 2
   },
   "file_extension": ".py",
   "mimetype": "text/x-python",
   "name": "python",
   "nbconvert_exporter": "python",
   "pygments_lexer": "ipython2",
   "version": "2.7.12"
  }
 },
 "nbformat": 4,
 "nbformat_minor": 0
}
